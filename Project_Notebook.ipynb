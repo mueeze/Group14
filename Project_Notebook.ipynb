{
  "nbformat": 4,
  "nbformat_minor": 0,
  "metadata": {
    "colab": {
      "provenance": []
    },
    "kernelspec": {
      "name": "python3",
      "display_name": "Python 3"
    },
    "language_info": {
      "name": "python"
    }
  },
  "cells": [
    {
      "cell_type": "code",
      "execution_count": null,
      "metadata": {
        "colab": {
          "base_uri": "https://localhost:8080/",
          "height": 73
        },
        "id": "ozFBDSCtkKGF",
        "outputId": "e26acba6-2989-4b44-9746-5b17e81f6200"
      },
      "outputs": [
        {
          "output_type": "display_data",
          "data": {
            "text/plain": [
              "<IPython.core.display.HTML object>"
            ],
            "text/html": [
              "\n",
              "     <input type=\"file\" id=\"files-ade804a9-a504-49fa-829a-afc4bff7131f\" name=\"files[]\" multiple disabled\n",
              "        style=\"border:none\" />\n",
              "     <output id=\"result-ade804a9-a504-49fa-829a-afc4bff7131f\">\n",
              "      Upload widget is only available when the cell has been executed in the\n",
              "      current browser session. Please rerun this cell to enable.\n",
              "      </output>\n",
              "      <script>// Copyright 2017 Google LLC\n",
              "//\n",
              "// Licensed under the Apache License, Version 2.0 (the \"License\");\n",
              "// you may not use this file except in compliance with the License.\n",
              "// You may obtain a copy of the License at\n",
              "//\n",
              "//      http://www.apache.org/licenses/LICENSE-2.0\n",
              "//\n",
              "// Unless required by applicable law or agreed to in writing, software\n",
              "// distributed under the License is distributed on an \"AS IS\" BASIS,\n",
              "// WITHOUT WARRANTIES OR CONDITIONS OF ANY KIND, either express or implied.\n",
              "// See the License for the specific language governing permissions and\n",
              "// limitations under the License.\n",
              "\n",
              "/**\n",
              " * @fileoverview Helpers for google.colab Python module.\n",
              " */\n",
              "(function(scope) {\n",
              "function span(text, styleAttributes = {}) {\n",
              "  const element = document.createElement('span');\n",
              "  element.textContent = text;\n",
              "  for (const key of Object.keys(styleAttributes)) {\n",
              "    element.style[key] = styleAttributes[key];\n",
              "  }\n",
              "  return element;\n",
              "}\n",
              "\n",
              "// Max number of bytes which will be uploaded at a time.\n",
              "const MAX_PAYLOAD_SIZE = 100 * 1024;\n",
              "\n",
              "function _uploadFiles(inputId, outputId) {\n",
              "  const steps = uploadFilesStep(inputId, outputId);\n",
              "  const outputElement = document.getElementById(outputId);\n",
              "  // Cache steps on the outputElement to make it available for the next call\n",
              "  // to uploadFilesContinue from Python.\n",
              "  outputElement.steps = steps;\n",
              "\n",
              "  return _uploadFilesContinue(outputId);\n",
              "}\n",
              "\n",
              "// This is roughly an async generator (not supported in the browser yet),\n",
              "// where there are multiple asynchronous steps and the Python side is going\n",
              "// to poll for completion of each step.\n",
              "// This uses a Promise to block the python side on completion of each step,\n",
              "// then passes the result of the previous step as the input to the next step.\n",
              "function _uploadFilesContinue(outputId) {\n",
              "  const outputElement = document.getElementById(outputId);\n",
              "  const steps = outputElement.steps;\n",
              "\n",
              "  const next = steps.next(outputElement.lastPromiseValue);\n",
              "  return Promise.resolve(next.value.promise).then((value) => {\n",
              "    // Cache the last promise value to make it available to the next\n",
              "    // step of the generator.\n",
              "    outputElement.lastPromiseValue = value;\n",
              "    return next.value.response;\n",
              "  });\n",
              "}\n",
              "\n",
              "/**\n",
              " * Generator function which is called between each async step of the upload\n",
              " * process.\n",
              " * @param {string} inputId Element ID of the input file picker element.\n",
              " * @param {string} outputId Element ID of the output display.\n",
              " * @return {!Iterable<!Object>} Iterable of next steps.\n",
              " */\n",
              "function* uploadFilesStep(inputId, outputId) {\n",
              "  const inputElement = document.getElementById(inputId);\n",
              "  inputElement.disabled = false;\n",
              "\n",
              "  const outputElement = document.getElementById(outputId);\n",
              "  outputElement.innerHTML = '';\n",
              "\n",
              "  const pickedPromise = new Promise((resolve) => {\n",
              "    inputElement.addEventListener('change', (e) => {\n",
              "      resolve(e.target.files);\n",
              "    });\n",
              "  });\n",
              "\n",
              "  const cancel = document.createElement('button');\n",
              "  inputElement.parentElement.appendChild(cancel);\n",
              "  cancel.textContent = 'Cancel upload';\n",
              "  const cancelPromise = new Promise((resolve) => {\n",
              "    cancel.onclick = () => {\n",
              "      resolve(null);\n",
              "    };\n",
              "  });\n",
              "\n",
              "  // Wait for the user to pick the files.\n",
              "  const files = yield {\n",
              "    promise: Promise.race([pickedPromise, cancelPromise]),\n",
              "    response: {\n",
              "      action: 'starting',\n",
              "    }\n",
              "  };\n",
              "\n",
              "  cancel.remove();\n",
              "\n",
              "  // Disable the input element since further picks are not allowed.\n",
              "  inputElement.disabled = true;\n",
              "\n",
              "  if (!files) {\n",
              "    return {\n",
              "      response: {\n",
              "        action: 'complete',\n",
              "      }\n",
              "    };\n",
              "  }\n",
              "\n",
              "  for (const file of files) {\n",
              "    const li = document.createElement('li');\n",
              "    li.append(span(file.name, {fontWeight: 'bold'}));\n",
              "    li.append(span(\n",
              "        `(${file.type || 'n/a'}) - ${file.size} bytes, ` +\n",
              "        `last modified: ${\n",
              "            file.lastModifiedDate ? file.lastModifiedDate.toLocaleDateString() :\n",
              "                                    'n/a'} - `));\n",
              "    const percent = span('0% done');\n",
              "    li.appendChild(percent);\n",
              "\n",
              "    outputElement.appendChild(li);\n",
              "\n",
              "    const fileDataPromise = new Promise((resolve) => {\n",
              "      const reader = new FileReader();\n",
              "      reader.onload = (e) => {\n",
              "        resolve(e.target.result);\n",
              "      };\n",
              "      reader.readAsArrayBuffer(file);\n",
              "    });\n",
              "    // Wait for the data to be ready.\n",
              "    let fileData = yield {\n",
              "      promise: fileDataPromise,\n",
              "      response: {\n",
              "        action: 'continue',\n",
              "      }\n",
              "    };\n",
              "\n",
              "    // Use a chunked sending to avoid message size limits. See b/62115660.\n",
              "    let position = 0;\n",
              "    do {\n",
              "      const length = Math.min(fileData.byteLength - position, MAX_PAYLOAD_SIZE);\n",
              "      const chunk = new Uint8Array(fileData, position, length);\n",
              "      position += length;\n",
              "\n",
              "      const base64 = btoa(String.fromCharCode.apply(null, chunk));\n",
              "      yield {\n",
              "        response: {\n",
              "          action: 'append',\n",
              "          file: file.name,\n",
              "          data: base64,\n",
              "        },\n",
              "      };\n",
              "\n",
              "      let percentDone = fileData.byteLength === 0 ?\n",
              "          100 :\n",
              "          Math.round((position / fileData.byteLength) * 100);\n",
              "      percent.textContent = `${percentDone}% done`;\n",
              "\n",
              "    } while (position < fileData.byteLength);\n",
              "  }\n",
              "\n",
              "  // All done.\n",
              "  yield {\n",
              "    response: {\n",
              "      action: 'complete',\n",
              "    }\n",
              "  };\n",
              "}\n",
              "\n",
              "scope.google = scope.google || {};\n",
              "scope.google.colab = scope.google.colab || {};\n",
              "scope.google.colab._files = {\n",
              "  _uploadFiles,\n",
              "  _uploadFilesContinue,\n",
              "};\n",
              "})(self);\n",
              "</script> "
            ]
          },
          "metadata": {}
        },
        {
          "output_type": "stream",
          "name": "stdout",
          "text": [
            "Saving framingham.csv to framingham (4).csv\n"
          ]
        }
      ],
      "source": [
        "from google.colab import files\n",
        "uploaded = files.upload()"
      ]
    },
    {
      "cell_type": "code",
      "source": [
        "# Import our dependencies (libraries)\n",
        "from sklearn.linear_model import LinearRegression\n",
        "from sklearn.model_selection import train_test_split\n",
        "from sklearn.preprocessing import StandardScaler,OneHotEncoder\n",
        "from pathlib import Path\n",
        "import tensorflow as tf\n",
        "import numpy as np\n",
        "import matplotlib.pyplot as plt\n",
        "import os\n",
        "\n",
        "\n"
      ],
      "metadata": {
        "id": "W3bEJdRLkm2D"
      },
      "execution_count": null,
      "outputs": []
    },
    {
      "cell_type": "code",
      "source": [
        "#  Import and read the csv file\n",
        "import pandas as pd \n",
        "df = pd.read_csv(\"framingham.csv\")\n",
        "df.head()"
      ],
      "metadata": {
        "colab": {
          "base_uri": "https://localhost:8080/",
          "height": 206
        },
        "id": "BJLq5iWLknI8",
        "outputId": "26985c5f-3fa0-44ad-e9bc-cfebcbd8761f"
      },
      "execution_count": null,
      "outputs": [
        {
          "output_type": "execute_result",
          "data": {
            "text/plain": [
              "   male  age  education  currentSmoker  cigsPerDay  BPMeds  prevalentStroke  \\\n",
              "0     1   39        4.0              0         0.0     0.0                0   \n",
              "1     0   46        2.0              0         0.0     0.0                0   \n",
              "2     1   48        1.0              1        20.0     0.0                0   \n",
              "3     0   61        3.0              1        30.0     0.0                0   \n",
              "4     0   46        3.0              1        23.0     0.0                0   \n",
              "\n",
              "   prevalentHyp  diabetes  totChol  sysBP  diaBP    BMI  heartRate  glucose  \\\n",
              "0             0         0    195.0  106.0   70.0  26.97       80.0     77.0   \n",
              "1             0         0    250.0  121.0   81.0  28.73       95.0     76.0   \n",
              "2             0         0    245.0  127.5   80.0  25.34       75.0     70.0   \n",
              "3             1         0    225.0  150.0   95.0  28.58       65.0    103.0   \n",
              "4             0         0    285.0  130.0   84.0  23.10       85.0     85.0   \n",
              "\n",
              "   TenYearCHD  \n",
              "0           0  \n",
              "1           0  \n",
              "2           0  \n",
              "3           1  \n",
              "4           0  "
            ],
            "text/html": [
              "\n",
              "  <div id=\"df-a1a78f11-3c47-4461-b9eb-7794d98d8bce\">\n",
              "    <div class=\"colab-df-container\">\n",
              "      <div>\n",
              "<style scoped>\n",
              "    .dataframe tbody tr th:only-of-type {\n",
              "        vertical-align: middle;\n",
              "    }\n",
              "\n",
              "    .dataframe tbody tr th {\n",
              "        vertical-align: top;\n",
              "    }\n",
              "\n",
              "    .dataframe thead th {\n",
              "        text-align: right;\n",
              "    }\n",
              "</style>\n",
              "<table border=\"1\" class=\"dataframe\">\n",
              "  <thead>\n",
              "    <tr style=\"text-align: right;\">\n",
              "      <th></th>\n",
              "      <th>male</th>\n",
              "      <th>age</th>\n",
              "      <th>education</th>\n",
              "      <th>currentSmoker</th>\n",
              "      <th>cigsPerDay</th>\n",
              "      <th>BPMeds</th>\n",
              "      <th>prevalentStroke</th>\n",
              "      <th>prevalentHyp</th>\n",
              "      <th>diabetes</th>\n",
              "      <th>totChol</th>\n",
              "      <th>sysBP</th>\n",
              "      <th>diaBP</th>\n",
              "      <th>BMI</th>\n",
              "      <th>heartRate</th>\n",
              "      <th>glucose</th>\n",
              "      <th>TenYearCHD</th>\n",
              "    </tr>\n",
              "  </thead>\n",
              "  <tbody>\n",
              "    <tr>\n",
              "      <th>0</th>\n",
              "      <td>1</td>\n",
              "      <td>39</td>\n",
              "      <td>4.0</td>\n",
              "      <td>0</td>\n",
              "      <td>0.0</td>\n",
              "      <td>0.0</td>\n",
              "      <td>0</td>\n",
              "      <td>0</td>\n",
              "      <td>0</td>\n",
              "      <td>195.0</td>\n",
              "      <td>106.0</td>\n",
              "      <td>70.0</td>\n",
              "      <td>26.97</td>\n",
              "      <td>80.0</td>\n",
              "      <td>77.0</td>\n",
              "      <td>0</td>\n",
              "    </tr>\n",
              "    <tr>\n",
              "      <th>1</th>\n",
              "      <td>0</td>\n",
              "      <td>46</td>\n",
              "      <td>2.0</td>\n",
              "      <td>0</td>\n",
              "      <td>0.0</td>\n",
              "      <td>0.0</td>\n",
              "      <td>0</td>\n",
              "      <td>0</td>\n",
              "      <td>0</td>\n",
              "      <td>250.0</td>\n",
              "      <td>121.0</td>\n",
              "      <td>81.0</td>\n",
              "      <td>28.73</td>\n",
              "      <td>95.0</td>\n",
              "      <td>76.0</td>\n",
              "      <td>0</td>\n",
              "    </tr>\n",
              "    <tr>\n",
              "      <th>2</th>\n",
              "      <td>1</td>\n",
              "      <td>48</td>\n",
              "      <td>1.0</td>\n",
              "      <td>1</td>\n",
              "      <td>20.0</td>\n",
              "      <td>0.0</td>\n",
              "      <td>0</td>\n",
              "      <td>0</td>\n",
              "      <td>0</td>\n",
              "      <td>245.0</td>\n",
              "      <td>127.5</td>\n",
              "      <td>80.0</td>\n",
              "      <td>25.34</td>\n",
              "      <td>75.0</td>\n",
              "      <td>70.0</td>\n",
              "      <td>0</td>\n",
              "    </tr>\n",
              "    <tr>\n",
              "      <th>3</th>\n",
              "      <td>0</td>\n",
              "      <td>61</td>\n",
              "      <td>3.0</td>\n",
              "      <td>1</td>\n",
              "      <td>30.0</td>\n",
              "      <td>0.0</td>\n",
              "      <td>0</td>\n",
              "      <td>1</td>\n",
              "      <td>0</td>\n",
              "      <td>225.0</td>\n",
              "      <td>150.0</td>\n",
              "      <td>95.0</td>\n",
              "      <td>28.58</td>\n",
              "      <td>65.0</td>\n",
              "      <td>103.0</td>\n",
              "      <td>1</td>\n",
              "    </tr>\n",
              "    <tr>\n",
              "      <th>4</th>\n",
              "      <td>0</td>\n",
              "      <td>46</td>\n",
              "      <td>3.0</td>\n",
              "      <td>1</td>\n",
              "      <td>23.0</td>\n",
              "      <td>0.0</td>\n",
              "      <td>0</td>\n",
              "      <td>0</td>\n",
              "      <td>0</td>\n",
              "      <td>285.0</td>\n",
              "      <td>130.0</td>\n",
              "      <td>84.0</td>\n",
              "      <td>23.10</td>\n",
              "      <td>85.0</td>\n",
              "      <td>85.0</td>\n",
              "      <td>0</td>\n",
              "    </tr>\n",
              "  </tbody>\n",
              "</table>\n",
              "</div>\n",
              "      <button class=\"colab-df-convert\" onclick=\"convertToInteractive('df-a1a78f11-3c47-4461-b9eb-7794d98d8bce')\"\n",
              "              title=\"Convert this dataframe to an interactive table.\"\n",
              "              style=\"display:none;\">\n",
              "        \n",
              "  <svg xmlns=\"http://www.w3.org/2000/svg\" height=\"24px\"viewBox=\"0 0 24 24\"\n",
              "       width=\"24px\">\n",
              "    <path d=\"M0 0h24v24H0V0z\" fill=\"none\"/>\n",
              "    <path d=\"M18.56 5.44l.94 2.06.94-2.06 2.06-.94-2.06-.94-.94-2.06-.94 2.06-2.06.94zm-11 1L8.5 8.5l.94-2.06 2.06-.94-2.06-.94L8.5 2.5l-.94 2.06-2.06.94zm10 10l.94 2.06.94-2.06 2.06-.94-2.06-.94-.94-2.06-.94 2.06-2.06.94z\"/><path d=\"M17.41 7.96l-1.37-1.37c-.4-.4-.92-.59-1.43-.59-.52 0-1.04.2-1.43.59L10.3 9.45l-7.72 7.72c-.78.78-.78 2.05 0 2.83L4 21.41c.39.39.9.59 1.41.59.51 0 1.02-.2 1.41-.59l7.78-7.78 2.81-2.81c.8-.78.8-2.07 0-2.86zM5.41 20L4 18.59l7.72-7.72 1.47 1.35L5.41 20z\"/>\n",
              "  </svg>\n",
              "      </button>\n",
              "      \n",
              "  <style>\n",
              "    .colab-df-container {\n",
              "      display:flex;\n",
              "      flex-wrap:wrap;\n",
              "      gap: 12px;\n",
              "    }\n",
              "\n",
              "    .colab-df-convert {\n",
              "      background-color: #E8F0FE;\n",
              "      border: none;\n",
              "      border-radius: 50%;\n",
              "      cursor: pointer;\n",
              "      display: none;\n",
              "      fill: #1967D2;\n",
              "      height: 32px;\n",
              "      padding: 0 0 0 0;\n",
              "      width: 32px;\n",
              "    }\n",
              "\n",
              "    .colab-df-convert:hover {\n",
              "      background-color: #E2EBFA;\n",
              "      box-shadow: 0px 1px 2px rgba(60, 64, 67, 0.3), 0px 1px 3px 1px rgba(60, 64, 67, 0.15);\n",
              "      fill: #174EA6;\n",
              "    }\n",
              "\n",
              "    [theme=dark] .colab-df-convert {\n",
              "      background-color: #3B4455;\n",
              "      fill: #D2E3FC;\n",
              "    }\n",
              "\n",
              "    [theme=dark] .colab-df-convert:hover {\n",
              "      background-color: #434B5C;\n",
              "      box-shadow: 0px 1px 3px 1px rgba(0, 0, 0, 0.15);\n",
              "      filter: drop-shadow(0px 1px 2px rgba(0, 0, 0, 0.3));\n",
              "      fill: #FFFFFF;\n",
              "    }\n",
              "  </style>\n",
              "\n",
              "      <script>\n",
              "        const buttonEl =\n",
              "          document.querySelector('#df-a1a78f11-3c47-4461-b9eb-7794d98d8bce button.colab-df-convert');\n",
              "        buttonEl.style.display =\n",
              "          google.colab.kernel.accessAllowed ? 'block' : 'none';\n",
              "\n",
              "        async function convertToInteractive(key) {\n",
              "          const element = document.querySelector('#df-a1a78f11-3c47-4461-b9eb-7794d98d8bce');\n",
              "          const dataTable =\n",
              "            await google.colab.kernel.invokeFunction('convertToInteractive',\n",
              "                                                     [key], {});\n",
              "          if (!dataTable) return;\n",
              "\n",
              "          const docLinkHtml = 'Like what you see? Visit the ' +\n",
              "            '<a target=\"_blank\" href=https://colab.research.google.com/notebooks/data_table.ipynb>data table notebook</a>'\n",
              "            + ' to learn more about interactive tables.';\n",
              "          element.innerHTML = '';\n",
              "          dataTable['output_type'] = 'display_data';\n",
              "          await google.colab.output.renderOutput(dataTable, element);\n",
              "          const docLink = document.createElement('div');\n",
              "          docLink.innerHTML = docLinkHtml;\n",
              "          element.appendChild(docLink);\n",
              "        }\n",
              "      </script>\n",
              "    </div>\n",
              "  </div>\n",
              "  "
            ]
          },
          "metadata": {},
          "execution_count": 29
        }
      ]
    },
    {
      "cell_type": "markdown",
      "source": [
        "**DATA EXPLORATION**"
      ],
      "metadata": {
        "id": "k-1828z_-oWi"
      }
    },
    {
      "cell_type": "code",
      "source": [
        "# To check the data data-types & number of rows\n",
        "df.info()"
      ],
      "metadata": {
        "colab": {
          "base_uri": "https://localhost:8080/"
        },
        "id": "Vcph_0w-knQY",
        "outputId": "d6495582-3cfc-43c3-b00e-9049ff71c8d6"
      },
      "execution_count": null,
      "outputs": [
        {
          "output_type": "stream",
          "name": "stdout",
          "text": [
            "<class 'pandas.core.frame.DataFrame'>\n",
            "RangeIndex: 4238 entries, 0 to 4237\n",
            "Data columns (total 16 columns):\n",
            " #   Column           Non-Null Count  Dtype  \n",
            "---  ------           --------------  -----  \n",
            " 0   male             4238 non-null   int64  \n",
            " 1   age              4238 non-null   int64  \n",
            " 2   education        4133 non-null   float64\n",
            " 3   currentSmoker    4238 non-null   int64  \n",
            " 4   cigsPerDay       4209 non-null   float64\n",
            " 5   BPMeds           4185 non-null   float64\n",
            " 6   prevalentStroke  4238 non-null   int64  \n",
            " 7   prevalentHyp     4238 non-null   int64  \n",
            " 8   diabetes         4238 non-null   int64  \n",
            " 9   totChol          4188 non-null   float64\n",
            " 10  sysBP            4238 non-null   float64\n",
            " 11  diaBP            4238 non-null   float64\n",
            " 12  BMI              4219 non-null   float64\n",
            " 13  heartRate        4237 non-null   float64\n",
            " 14  glucose          3850 non-null   float64\n",
            " 15  TenYearCHD       4238 non-null   int64  \n",
            "dtypes: float64(9), int64(7)\n",
            "memory usage: 529.9 KB\n"
          ]
        }
      ]
    },
    {
      "cell_type": "code",
      "source": [
        "# Determine the number of unique values in each column\n",
        "df.nunique()"
      ],
      "metadata": {
        "colab": {
          "base_uri": "https://localhost:8080/"
        },
        "id": "UXXN0Ew5knTC",
        "outputId": "e9e9dd4d-ca7f-4b2c-920e-c42cb36e74c6"
      },
      "execution_count": null,
      "outputs": [
        {
          "output_type": "execute_result",
          "data": {
            "text/plain": [
              "male                  2\n",
              "age                  39\n",
              "education             4\n",
              "currentSmoker         2\n",
              "cigsPerDay           33\n",
              "BPMeds                2\n",
              "prevalentStroke       2\n",
              "prevalentHyp          2\n",
              "diabetes              2\n",
              "totChol             248\n",
              "sysBP               234\n",
              "diaBP               146\n",
              "BMI                1363\n",
              "heartRate            73\n",
              "glucose             143\n",
              "TenYearCHD            2\n",
              "dtype: int64"
            ]
          },
          "metadata": {},
          "execution_count": 31
        }
      ]
    },
    {
      "cell_type": "code",
      "source": [
        "# statistical summaries for the dataset\n",
        "df.describe()"
      ],
      "metadata": {
        "colab": {
          "base_uri": "https://localhost:8080/",
          "height": 300
        },
        "id": "oqCCFC4FknXf",
        "outputId": "fd48ab92-c8a1-47f1-b6ed-936c2f3b6e5d"
      },
      "execution_count": null,
      "outputs": [
        {
          "output_type": "execute_result",
          "data": {
            "text/plain": [
              "              male          age    education  currentSmoker   cigsPerDay  \\\n",
              "count  4238.000000  4238.000000  4133.000000    4238.000000  4209.000000   \n",
              "mean      0.429212    49.584946     1.978950       0.494101     9.003089   \n",
              "std       0.495022     8.572160     1.019791       0.500024    11.920094   \n",
              "min       0.000000    32.000000     1.000000       0.000000     0.000000   \n",
              "25%       0.000000    42.000000     1.000000       0.000000     0.000000   \n",
              "50%       0.000000    49.000000     2.000000       0.000000     0.000000   \n",
              "75%       1.000000    56.000000     3.000000       1.000000    20.000000   \n",
              "max       1.000000    70.000000     4.000000       1.000000    70.000000   \n",
              "\n",
              "            BPMeds  prevalentStroke  prevalentHyp     diabetes      totChol  \\\n",
              "count  4185.000000      4238.000000   4238.000000  4238.000000  4188.000000   \n",
              "mean      0.029630         0.005899      0.310524     0.025720   236.721585   \n",
              "std       0.169584         0.076587      0.462763     0.158316    44.590334   \n",
              "min       0.000000         0.000000      0.000000     0.000000   107.000000   \n",
              "25%       0.000000         0.000000      0.000000     0.000000   206.000000   \n",
              "50%       0.000000         0.000000      0.000000     0.000000   234.000000   \n",
              "75%       0.000000         0.000000      1.000000     0.000000   263.000000   \n",
              "max       1.000000         1.000000      1.000000     1.000000   696.000000   \n",
              "\n",
              "             sysBP        diaBP          BMI    heartRate      glucose  \\\n",
              "count  4238.000000  4238.000000  4219.000000  4237.000000  3850.000000   \n",
              "mean    132.352407    82.893464    25.802008    75.878924    81.966753   \n",
              "std      22.038097    11.910850     4.080111    12.026596    23.959998   \n",
              "min      83.500000    48.000000    15.540000    44.000000    40.000000   \n",
              "25%     117.000000    75.000000    23.070000    68.000000    71.000000   \n",
              "50%     128.000000    82.000000    25.400000    75.000000    78.000000   \n",
              "75%     144.000000    89.875000    28.040000    83.000000    87.000000   \n",
              "max     295.000000   142.500000    56.800000   143.000000   394.000000   \n",
              "\n",
              "        TenYearCHD  \n",
              "count  4238.000000  \n",
              "mean      0.151958  \n",
              "std       0.359023  \n",
              "min       0.000000  \n",
              "25%       0.000000  \n",
              "50%       0.000000  \n",
              "75%       0.000000  \n",
              "max       1.000000  "
            ],
            "text/html": [
              "\n",
              "  <div id=\"df-9996383b-9ca3-4095-b502-47591e2b8376\">\n",
              "    <div class=\"colab-df-container\">\n",
              "      <div>\n",
              "<style scoped>\n",
              "    .dataframe tbody tr th:only-of-type {\n",
              "        vertical-align: middle;\n",
              "    }\n",
              "\n",
              "    .dataframe tbody tr th {\n",
              "        vertical-align: top;\n",
              "    }\n",
              "\n",
              "    .dataframe thead th {\n",
              "        text-align: right;\n",
              "    }\n",
              "</style>\n",
              "<table border=\"1\" class=\"dataframe\">\n",
              "  <thead>\n",
              "    <tr style=\"text-align: right;\">\n",
              "      <th></th>\n",
              "      <th>male</th>\n",
              "      <th>age</th>\n",
              "      <th>education</th>\n",
              "      <th>currentSmoker</th>\n",
              "      <th>cigsPerDay</th>\n",
              "      <th>BPMeds</th>\n",
              "      <th>prevalentStroke</th>\n",
              "      <th>prevalentHyp</th>\n",
              "      <th>diabetes</th>\n",
              "      <th>totChol</th>\n",
              "      <th>sysBP</th>\n",
              "      <th>diaBP</th>\n",
              "      <th>BMI</th>\n",
              "      <th>heartRate</th>\n",
              "      <th>glucose</th>\n",
              "      <th>TenYearCHD</th>\n",
              "    </tr>\n",
              "  </thead>\n",
              "  <tbody>\n",
              "    <tr>\n",
              "      <th>count</th>\n",
              "      <td>4238.000000</td>\n",
              "      <td>4238.000000</td>\n",
              "      <td>4133.000000</td>\n",
              "      <td>4238.000000</td>\n",
              "      <td>4209.000000</td>\n",
              "      <td>4185.000000</td>\n",
              "      <td>4238.000000</td>\n",
              "      <td>4238.000000</td>\n",
              "      <td>4238.000000</td>\n",
              "      <td>4188.000000</td>\n",
              "      <td>4238.000000</td>\n",
              "      <td>4238.000000</td>\n",
              "      <td>4219.000000</td>\n",
              "      <td>4237.000000</td>\n",
              "      <td>3850.000000</td>\n",
              "      <td>4238.000000</td>\n",
              "    </tr>\n",
              "    <tr>\n",
              "      <th>mean</th>\n",
              "      <td>0.429212</td>\n",
              "      <td>49.584946</td>\n",
              "      <td>1.978950</td>\n",
              "      <td>0.494101</td>\n",
              "      <td>9.003089</td>\n",
              "      <td>0.029630</td>\n",
              "      <td>0.005899</td>\n",
              "      <td>0.310524</td>\n",
              "      <td>0.025720</td>\n",
              "      <td>236.721585</td>\n",
              "      <td>132.352407</td>\n",
              "      <td>82.893464</td>\n",
              "      <td>25.802008</td>\n",
              "      <td>75.878924</td>\n",
              "      <td>81.966753</td>\n",
              "      <td>0.151958</td>\n",
              "    </tr>\n",
              "    <tr>\n",
              "      <th>std</th>\n",
              "      <td>0.495022</td>\n",
              "      <td>8.572160</td>\n",
              "      <td>1.019791</td>\n",
              "      <td>0.500024</td>\n",
              "      <td>11.920094</td>\n",
              "      <td>0.169584</td>\n",
              "      <td>0.076587</td>\n",
              "      <td>0.462763</td>\n",
              "      <td>0.158316</td>\n",
              "      <td>44.590334</td>\n",
              "      <td>22.038097</td>\n",
              "      <td>11.910850</td>\n",
              "      <td>4.080111</td>\n",
              "      <td>12.026596</td>\n",
              "      <td>23.959998</td>\n",
              "      <td>0.359023</td>\n",
              "    </tr>\n",
              "    <tr>\n",
              "      <th>min</th>\n",
              "      <td>0.000000</td>\n",
              "      <td>32.000000</td>\n",
              "      <td>1.000000</td>\n",
              "      <td>0.000000</td>\n",
              "      <td>0.000000</td>\n",
              "      <td>0.000000</td>\n",
              "      <td>0.000000</td>\n",
              "      <td>0.000000</td>\n",
              "      <td>0.000000</td>\n",
              "      <td>107.000000</td>\n",
              "      <td>83.500000</td>\n",
              "      <td>48.000000</td>\n",
              "      <td>15.540000</td>\n",
              "      <td>44.000000</td>\n",
              "      <td>40.000000</td>\n",
              "      <td>0.000000</td>\n",
              "    </tr>\n",
              "    <tr>\n",
              "      <th>25%</th>\n",
              "      <td>0.000000</td>\n",
              "      <td>42.000000</td>\n",
              "      <td>1.000000</td>\n",
              "      <td>0.000000</td>\n",
              "      <td>0.000000</td>\n",
              "      <td>0.000000</td>\n",
              "      <td>0.000000</td>\n",
              "      <td>0.000000</td>\n",
              "      <td>0.000000</td>\n",
              "      <td>206.000000</td>\n",
              "      <td>117.000000</td>\n",
              "      <td>75.000000</td>\n",
              "      <td>23.070000</td>\n",
              "      <td>68.000000</td>\n",
              "      <td>71.000000</td>\n",
              "      <td>0.000000</td>\n",
              "    </tr>\n",
              "    <tr>\n",
              "      <th>50%</th>\n",
              "      <td>0.000000</td>\n",
              "      <td>49.000000</td>\n",
              "      <td>2.000000</td>\n",
              "      <td>0.000000</td>\n",
              "      <td>0.000000</td>\n",
              "      <td>0.000000</td>\n",
              "      <td>0.000000</td>\n",
              "      <td>0.000000</td>\n",
              "      <td>0.000000</td>\n",
              "      <td>234.000000</td>\n",
              "      <td>128.000000</td>\n",
              "      <td>82.000000</td>\n",
              "      <td>25.400000</td>\n",
              "      <td>75.000000</td>\n",
              "      <td>78.000000</td>\n",
              "      <td>0.000000</td>\n",
              "    </tr>\n",
              "    <tr>\n",
              "      <th>75%</th>\n",
              "      <td>1.000000</td>\n",
              "      <td>56.000000</td>\n",
              "      <td>3.000000</td>\n",
              "      <td>1.000000</td>\n",
              "      <td>20.000000</td>\n",
              "      <td>0.000000</td>\n",
              "      <td>0.000000</td>\n",
              "      <td>1.000000</td>\n",
              "      <td>0.000000</td>\n",
              "      <td>263.000000</td>\n",
              "      <td>144.000000</td>\n",
              "      <td>89.875000</td>\n",
              "      <td>28.040000</td>\n",
              "      <td>83.000000</td>\n",
              "      <td>87.000000</td>\n",
              "      <td>0.000000</td>\n",
              "    </tr>\n",
              "    <tr>\n",
              "      <th>max</th>\n",
              "      <td>1.000000</td>\n",
              "      <td>70.000000</td>\n",
              "      <td>4.000000</td>\n",
              "      <td>1.000000</td>\n",
              "      <td>70.000000</td>\n",
              "      <td>1.000000</td>\n",
              "      <td>1.000000</td>\n",
              "      <td>1.000000</td>\n",
              "      <td>1.000000</td>\n",
              "      <td>696.000000</td>\n",
              "      <td>295.000000</td>\n",
              "      <td>142.500000</td>\n",
              "      <td>56.800000</td>\n",
              "      <td>143.000000</td>\n",
              "      <td>394.000000</td>\n",
              "      <td>1.000000</td>\n",
              "    </tr>\n",
              "  </tbody>\n",
              "</table>\n",
              "</div>\n",
              "      <button class=\"colab-df-convert\" onclick=\"convertToInteractive('df-9996383b-9ca3-4095-b502-47591e2b8376')\"\n",
              "              title=\"Convert this dataframe to an interactive table.\"\n",
              "              style=\"display:none;\">\n",
              "        \n",
              "  <svg xmlns=\"http://www.w3.org/2000/svg\" height=\"24px\"viewBox=\"0 0 24 24\"\n",
              "       width=\"24px\">\n",
              "    <path d=\"M0 0h24v24H0V0z\" fill=\"none\"/>\n",
              "    <path d=\"M18.56 5.44l.94 2.06.94-2.06 2.06-.94-2.06-.94-.94-2.06-.94 2.06-2.06.94zm-11 1L8.5 8.5l.94-2.06 2.06-.94-2.06-.94L8.5 2.5l-.94 2.06-2.06.94zm10 10l.94 2.06.94-2.06 2.06-.94-2.06-.94-.94-2.06-.94 2.06-2.06.94z\"/><path d=\"M17.41 7.96l-1.37-1.37c-.4-.4-.92-.59-1.43-.59-.52 0-1.04.2-1.43.59L10.3 9.45l-7.72 7.72c-.78.78-.78 2.05 0 2.83L4 21.41c.39.39.9.59 1.41.59.51 0 1.02-.2 1.41-.59l7.78-7.78 2.81-2.81c.8-.78.8-2.07 0-2.86zM5.41 20L4 18.59l7.72-7.72 1.47 1.35L5.41 20z\"/>\n",
              "  </svg>\n",
              "      </button>\n",
              "      \n",
              "  <style>\n",
              "    .colab-df-container {\n",
              "      display:flex;\n",
              "      flex-wrap:wrap;\n",
              "      gap: 12px;\n",
              "    }\n",
              "\n",
              "    .colab-df-convert {\n",
              "      background-color: #E8F0FE;\n",
              "      border: none;\n",
              "      border-radius: 50%;\n",
              "      cursor: pointer;\n",
              "      display: none;\n",
              "      fill: #1967D2;\n",
              "      height: 32px;\n",
              "      padding: 0 0 0 0;\n",
              "      width: 32px;\n",
              "    }\n",
              "\n",
              "    .colab-df-convert:hover {\n",
              "      background-color: #E2EBFA;\n",
              "      box-shadow: 0px 1px 2px rgba(60, 64, 67, 0.3), 0px 1px 3px 1px rgba(60, 64, 67, 0.15);\n",
              "      fill: #174EA6;\n",
              "    }\n",
              "\n",
              "    [theme=dark] .colab-df-convert {\n",
              "      background-color: #3B4455;\n",
              "      fill: #D2E3FC;\n",
              "    }\n",
              "\n",
              "    [theme=dark] .colab-df-convert:hover {\n",
              "      background-color: #434B5C;\n",
              "      box-shadow: 0px 1px 3px 1px rgba(0, 0, 0, 0.15);\n",
              "      filter: drop-shadow(0px 1px 2px rgba(0, 0, 0, 0.3));\n",
              "      fill: #FFFFFF;\n",
              "    }\n",
              "  </style>\n",
              "\n",
              "      <script>\n",
              "        const buttonEl =\n",
              "          document.querySelector('#df-9996383b-9ca3-4095-b502-47591e2b8376 button.colab-df-convert');\n",
              "        buttonEl.style.display =\n",
              "          google.colab.kernel.accessAllowed ? 'block' : 'none';\n",
              "\n",
              "        async function convertToInteractive(key) {\n",
              "          const element = document.querySelector('#df-9996383b-9ca3-4095-b502-47591e2b8376');\n",
              "          const dataTable =\n",
              "            await google.colab.kernel.invokeFunction('convertToInteractive',\n",
              "                                                     [key], {});\n",
              "          if (!dataTable) return;\n",
              "\n",
              "          const docLinkHtml = 'Like what you see? Visit the ' +\n",
              "            '<a target=\"_blank\" href=https://colab.research.google.com/notebooks/data_table.ipynb>data table notebook</a>'\n",
              "            + ' to learn more about interactive tables.';\n",
              "          element.innerHTML = '';\n",
              "          dataTable['output_type'] = 'display_data';\n",
              "          await google.colab.output.renderOutput(dataTable, element);\n",
              "          const docLink = document.createElement('div');\n",
              "          docLink.innerHTML = docLinkHtml;\n",
              "          element.appendChild(docLink);\n",
              "        }\n",
              "      </script>\n",
              "    </div>\n",
              "  </div>\n",
              "  "
            ]
          },
          "metadata": {},
          "execution_count": 32
        }
      ]
    },
    {
      "cell_type": "code",
      "source": [
        "#Check for null valumes on each column\n",
        "df.isnull().sum()"
      ],
      "metadata": {
        "colab": {
          "base_uri": "https://localhost:8080/"
        },
        "id": "_rHIu4GQknNC",
        "outputId": "cf2c10f7-ea93-4a97-d981-dae1342682da"
      },
      "execution_count": null,
      "outputs": [
        {
          "output_type": "execute_result",
          "data": {
            "text/plain": [
              "male                 0\n",
              "age                  0\n",
              "education          105\n",
              "currentSmoker        0\n",
              "cigsPerDay          29\n",
              "BPMeds              53\n",
              "prevalentStroke      0\n",
              "prevalentHyp         0\n",
              "diabetes             0\n",
              "totChol             50\n",
              "sysBP                0\n",
              "diaBP                0\n",
              "BMI                 19\n",
              "heartRate            1\n",
              "glucose            388\n",
              "TenYearCHD           0\n",
              "dtype: int64"
            ]
          },
          "metadata": {},
          "execution_count": 33
        }
      ]
    },
    {
      "cell_type": "markdown",
      "source": [
        "**DATA CLEANING**\n",
        "\n",
        "*Data cleaning is the process of fixing or removing incorrect, corrupted, incorrectly formatted, duplicate, or incomplete/null-value data within a dataset or unnecessary columns irrelavant for the analysis .* "
      ],
      "metadata": {
        "id": "7Yu-TZot_iGR"
      }
    },
    {
      "cell_type": "code",
      "source": [
        "# Dropped 'Education' column as it is not related \n",
        "df.drop([\"education\"],axis=1,inplace = True)\n",
        "df.isnull().sum()"
      ],
      "metadata": {
        "colab": {
          "base_uri": "https://localhost:8080/"
        },
        "id": "PY-6huMGFyM_",
        "outputId": "1abd907b-c591-409b-d0b0-5fc0c29d97fd"
      },
      "execution_count": null,
      "outputs": [
        {
          "output_type": "execute_result",
          "data": {
            "text/plain": [
              "male                 0\n",
              "age                  0\n",
              "currentSmoker        0\n",
              "cigsPerDay          29\n",
              "BPMeds              53\n",
              "prevalentStroke      0\n",
              "prevalentHyp         0\n",
              "diabetes             0\n",
              "totChol             50\n",
              "sysBP                0\n",
              "diaBP                0\n",
              "BMI                 19\n",
              "heartRate            1\n",
              "glucose            388\n",
              "TenYearCHD           0\n",
              "dtype: int64"
            ]
          },
          "metadata": {},
          "execution_count": 34
        }
      ]
    },
    {
      "cell_type": "code",
      "source": [
        "#To check for duplicate values\n",
        "df.duplicated().sum()"
      ],
      "metadata": {
        "colab": {
          "base_uri": "https://localhost:8080/"
        },
        "id": "De9S_znnknVn",
        "outputId": "0920d65c-640d-4db4-cdb5-d413107add62"
      },
      "execution_count": null,
      "outputs": [
        {
          "output_type": "execute_result",
          "data": {
            "text/plain": [
              "0"
            ]
          },
          "metadata": {},
          "execution_count": 35
        }
      ]
    },
    {
      "cell_type": "code",
      "source": [
        "# Checking the data set\n",
        "df.cigsPerDay.describe()"
      ],
      "metadata": {
        "colab": {
          "base_uri": "https://localhost:8080/"
        },
        "id": "t1pSirC-JHaN",
        "outputId": "89eee967-92d4-4f8e-c13a-89cec947571a"
      },
      "execution_count": null,
      "outputs": [
        {
          "output_type": "execute_result",
          "data": {
            "text/plain": [
              "count    4209.000000\n",
              "mean        9.003089\n",
              "std        11.920094\n",
              "min         0.000000\n",
              "25%         0.000000\n",
              "50%         0.000000\n",
              "75%        20.000000\n",
              "max        70.000000\n",
              "Name: cigsPerDay, dtype: float64"
            ]
          },
          "metadata": {},
          "execution_count": 36
        }
      ]
    },
    {
      "cell_type": "code",
      "source": [
        "# Using Median to fill the NAs for 'CigsPerDay' as the values are not continous(Mean#9 & 50%#0.00)\n",
        "df['cigsPerDay'].fillna(df['cigsPerDay'].median(), inplace=True)"
      ],
      "metadata": {
        "id": "083fr8uyJQ-a"
      },
      "execution_count": null,
      "outputs": []
    },
    {
      "cell_type": "code",
      "source": [
        "# Identify the mean values for the columns\n",
        "df.mean()"
      ],
      "metadata": {
        "colab": {
          "base_uri": "https://localhost:8080/"
        },
        "id": "WZBHSaZonY0j",
        "outputId": "36d73e3e-1a0f-4a87-c6a2-833b8fda08d7"
      },
      "execution_count": null,
      "outputs": [
        {
          "output_type": "execute_result",
          "data": {
            "text/plain": [
              "male                 0.429212\n",
              "age                 49.584946\n",
              "currentSmoker        0.494101\n",
              "cigsPerDay           8.941482\n",
              "BPMeds               0.029630\n",
              "prevalentStroke      0.005899\n",
              "prevalentHyp         0.310524\n",
              "diabetes             0.025720\n",
              "totChol            236.721585\n",
              "sysBP              132.352407\n",
              "diaBP               82.893464\n",
              "BMI                 25.802008\n",
              "heartRate           75.878924\n",
              "glucose             81.966753\n",
              "TenYearCHD           0.151958\n",
              "dtype: float64"
            ]
          },
          "metadata": {},
          "execution_count": 38
        }
      ]
    },
    {
      "cell_type": "code",
      "source": [
        "# To replce the null values with the column mean values, to have a wide dataset\n",
        "df = df.fillna(df.mean())\n",
        "df.head()"
      ],
      "metadata": {
        "colab": {
          "base_uri": "https://localhost:8080/",
          "height": 206
        },
        "id": "cLHGE_WhoJoQ",
        "outputId": "c1a9b9c6-a300-46b9-8996-59a5934eea61"
      },
      "execution_count": null,
      "outputs": [
        {
          "output_type": "execute_result",
          "data": {
            "text/plain": [
              "   male  age  currentSmoker  cigsPerDay  BPMeds  prevalentStroke  \\\n",
              "0     1   39              0         0.0     0.0                0   \n",
              "1     0   46              0         0.0     0.0                0   \n",
              "2     1   48              1        20.0     0.0                0   \n",
              "3     0   61              1        30.0     0.0                0   \n",
              "4     0   46              1        23.0     0.0                0   \n",
              "\n",
              "   prevalentHyp  diabetes  totChol  sysBP  diaBP    BMI  heartRate  glucose  \\\n",
              "0             0         0    195.0  106.0   70.0  26.97       80.0     77.0   \n",
              "1             0         0    250.0  121.0   81.0  28.73       95.0     76.0   \n",
              "2             0         0    245.0  127.5   80.0  25.34       75.0     70.0   \n",
              "3             1         0    225.0  150.0   95.0  28.58       65.0    103.0   \n",
              "4             0         0    285.0  130.0   84.0  23.10       85.0     85.0   \n",
              "\n",
              "   TenYearCHD  \n",
              "0           0  \n",
              "1           0  \n",
              "2           0  \n",
              "3           1  \n",
              "4           0  "
            ],
            "text/html": [
              "\n",
              "  <div id=\"df-c1c5474b-a151-4121-aa14-fa0fb0cbe36b\">\n",
              "    <div class=\"colab-df-container\">\n",
              "      <div>\n",
              "<style scoped>\n",
              "    .dataframe tbody tr th:only-of-type {\n",
              "        vertical-align: middle;\n",
              "    }\n",
              "\n",
              "    .dataframe tbody tr th {\n",
              "        vertical-align: top;\n",
              "    }\n",
              "\n",
              "    .dataframe thead th {\n",
              "        text-align: right;\n",
              "    }\n",
              "</style>\n",
              "<table border=\"1\" class=\"dataframe\">\n",
              "  <thead>\n",
              "    <tr style=\"text-align: right;\">\n",
              "      <th></th>\n",
              "      <th>male</th>\n",
              "      <th>age</th>\n",
              "      <th>currentSmoker</th>\n",
              "      <th>cigsPerDay</th>\n",
              "      <th>BPMeds</th>\n",
              "      <th>prevalentStroke</th>\n",
              "      <th>prevalentHyp</th>\n",
              "      <th>diabetes</th>\n",
              "      <th>totChol</th>\n",
              "      <th>sysBP</th>\n",
              "      <th>diaBP</th>\n",
              "      <th>BMI</th>\n",
              "      <th>heartRate</th>\n",
              "      <th>glucose</th>\n",
              "      <th>TenYearCHD</th>\n",
              "    </tr>\n",
              "  </thead>\n",
              "  <tbody>\n",
              "    <tr>\n",
              "      <th>0</th>\n",
              "      <td>1</td>\n",
              "      <td>39</td>\n",
              "      <td>0</td>\n",
              "      <td>0.0</td>\n",
              "      <td>0.0</td>\n",
              "      <td>0</td>\n",
              "      <td>0</td>\n",
              "      <td>0</td>\n",
              "      <td>195.0</td>\n",
              "      <td>106.0</td>\n",
              "      <td>70.0</td>\n",
              "      <td>26.97</td>\n",
              "      <td>80.0</td>\n",
              "      <td>77.0</td>\n",
              "      <td>0</td>\n",
              "    </tr>\n",
              "    <tr>\n",
              "      <th>1</th>\n",
              "      <td>0</td>\n",
              "      <td>46</td>\n",
              "      <td>0</td>\n",
              "      <td>0.0</td>\n",
              "      <td>0.0</td>\n",
              "      <td>0</td>\n",
              "      <td>0</td>\n",
              "      <td>0</td>\n",
              "      <td>250.0</td>\n",
              "      <td>121.0</td>\n",
              "      <td>81.0</td>\n",
              "      <td>28.73</td>\n",
              "      <td>95.0</td>\n",
              "      <td>76.0</td>\n",
              "      <td>0</td>\n",
              "    </tr>\n",
              "    <tr>\n",
              "      <th>2</th>\n",
              "      <td>1</td>\n",
              "      <td>48</td>\n",
              "      <td>1</td>\n",
              "      <td>20.0</td>\n",
              "      <td>0.0</td>\n",
              "      <td>0</td>\n",
              "      <td>0</td>\n",
              "      <td>0</td>\n",
              "      <td>245.0</td>\n",
              "      <td>127.5</td>\n",
              "      <td>80.0</td>\n",
              "      <td>25.34</td>\n",
              "      <td>75.0</td>\n",
              "      <td>70.0</td>\n",
              "      <td>0</td>\n",
              "    </tr>\n",
              "    <tr>\n",
              "      <th>3</th>\n",
              "      <td>0</td>\n",
              "      <td>61</td>\n",
              "      <td>1</td>\n",
              "      <td>30.0</td>\n",
              "      <td>0.0</td>\n",
              "      <td>0</td>\n",
              "      <td>1</td>\n",
              "      <td>0</td>\n",
              "      <td>225.0</td>\n",
              "      <td>150.0</td>\n",
              "      <td>95.0</td>\n",
              "      <td>28.58</td>\n",
              "      <td>65.0</td>\n",
              "      <td>103.0</td>\n",
              "      <td>1</td>\n",
              "    </tr>\n",
              "    <tr>\n",
              "      <th>4</th>\n",
              "      <td>0</td>\n",
              "      <td>46</td>\n",
              "      <td>1</td>\n",
              "      <td>23.0</td>\n",
              "      <td>0.0</td>\n",
              "      <td>0</td>\n",
              "      <td>0</td>\n",
              "      <td>0</td>\n",
              "      <td>285.0</td>\n",
              "      <td>130.0</td>\n",
              "      <td>84.0</td>\n",
              "      <td>23.10</td>\n",
              "      <td>85.0</td>\n",
              "      <td>85.0</td>\n",
              "      <td>0</td>\n",
              "    </tr>\n",
              "  </tbody>\n",
              "</table>\n",
              "</div>\n",
              "      <button class=\"colab-df-convert\" onclick=\"convertToInteractive('df-c1c5474b-a151-4121-aa14-fa0fb0cbe36b')\"\n",
              "              title=\"Convert this dataframe to an interactive table.\"\n",
              "              style=\"display:none;\">\n",
              "        \n",
              "  <svg xmlns=\"http://www.w3.org/2000/svg\" height=\"24px\"viewBox=\"0 0 24 24\"\n",
              "       width=\"24px\">\n",
              "    <path d=\"M0 0h24v24H0V0z\" fill=\"none\"/>\n",
              "    <path d=\"M18.56 5.44l.94 2.06.94-2.06 2.06-.94-2.06-.94-.94-2.06-.94 2.06-2.06.94zm-11 1L8.5 8.5l.94-2.06 2.06-.94-2.06-.94L8.5 2.5l-.94 2.06-2.06.94zm10 10l.94 2.06.94-2.06 2.06-.94-2.06-.94-.94-2.06-.94 2.06-2.06.94z\"/><path d=\"M17.41 7.96l-1.37-1.37c-.4-.4-.92-.59-1.43-.59-.52 0-1.04.2-1.43.59L10.3 9.45l-7.72 7.72c-.78.78-.78 2.05 0 2.83L4 21.41c.39.39.9.59 1.41.59.51 0 1.02-.2 1.41-.59l7.78-7.78 2.81-2.81c.8-.78.8-2.07 0-2.86zM5.41 20L4 18.59l7.72-7.72 1.47 1.35L5.41 20z\"/>\n",
              "  </svg>\n",
              "      </button>\n",
              "      \n",
              "  <style>\n",
              "    .colab-df-container {\n",
              "      display:flex;\n",
              "      flex-wrap:wrap;\n",
              "      gap: 12px;\n",
              "    }\n",
              "\n",
              "    .colab-df-convert {\n",
              "      background-color: #E8F0FE;\n",
              "      border: none;\n",
              "      border-radius: 50%;\n",
              "      cursor: pointer;\n",
              "      display: none;\n",
              "      fill: #1967D2;\n",
              "      height: 32px;\n",
              "      padding: 0 0 0 0;\n",
              "      width: 32px;\n",
              "    }\n",
              "\n",
              "    .colab-df-convert:hover {\n",
              "      background-color: #E2EBFA;\n",
              "      box-shadow: 0px 1px 2px rgba(60, 64, 67, 0.3), 0px 1px 3px 1px rgba(60, 64, 67, 0.15);\n",
              "      fill: #174EA6;\n",
              "    }\n",
              "\n",
              "    [theme=dark] .colab-df-convert {\n",
              "      background-color: #3B4455;\n",
              "      fill: #D2E3FC;\n",
              "    }\n",
              "\n",
              "    [theme=dark] .colab-df-convert:hover {\n",
              "      background-color: #434B5C;\n",
              "      box-shadow: 0px 1px 3px 1px rgba(0, 0, 0, 0.15);\n",
              "      filter: drop-shadow(0px 1px 2px rgba(0, 0, 0, 0.3));\n",
              "      fill: #FFFFFF;\n",
              "    }\n",
              "  </style>\n",
              "\n",
              "      <script>\n",
              "        const buttonEl =\n",
              "          document.querySelector('#df-c1c5474b-a151-4121-aa14-fa0fb0cbe36b button.colab-df-convert');\n",
              "        buttonEl.style.display =\n",
              "          google.colab.kernel.accessAllowed ? 'block' : 'none';\n",
              "\n",
              "        async function convertToInteractive(key) {\n",
              "          const element = document.querySelector('#df-c1c5474b-a151-4121-aa14-fa0fb0cbe36b');\n",
              "          const dataTable =\n",
              "            await google.colab.kernel.invokeFunction('convertToInteractive',\n",
              "                                                     [key], {});\n",
              "          if (!dataTable) return;\n",
              "\n",
              "          const docLinkHtml = 'Like what you see? Visit the ' +\n",
              "            '<a target=\"_blank\" href=https://colab.research.google.com/notebooks/data_table.ipynb>data table notebook</a>'\n",
              "            + ' to learn more about interactive tables.';\n",
              "          element.innerHTML = '';\n",
              "          dataTable['output_type'] = 'display_data';\n",
              "          await google.colab.output.renderOutput(dataTable, element);\n",
              "          const docLink = document.createElement('div');\n",
              "          docLink.innerHTML = docLinkHtml;\n",
              "          element.appendChild(docLink);\n",
              "        }\n",
              "      </script>\n",
              "    </div>\n",
              "  </div>\n",
              "  "
            ]
          },
          "metadata": {},
          "execution_count": 39
        }
      ]
    },
    {
      "cell_type": "code",
      "source": [
        "# To check the data data-types & number of rows (No null values now)\n",
        "df.info()"
      ],
      "metadata": {
        "colab": {
          "base_uri": "https://localhost:8080/"
        },
        "id": "wUSXmjAn8YrX",
        "outputId": "191cf6f6-8f4e-4bdc-d0dd-9dcda2482ae3"
      },
      "execution_count": null,
      "outputs": [
        {
          "output_type": "stream",
          "name": "stdout",
          "text": [
            "<class 'pandas.core.frame.DataFrame'>\n",
            "RangeIndex: 4238 entries, 0 to 4237\n",
            "Data columns (total 15 columns):\n",
            " #   Column           Non-Null Count  Dtype  \n",
            "---  ------           --------------  -----  \n",
            " 0   male             4238 non-null   int64  \n",
            " 1   age              4238 non-null   int64  \n",
            " 2   currentSmoker    4238 non-null   int64  \n",
            " 3   cigsPerDay       4238 non-null   float64\n",
            " 4   BPMeds           4238 non-null   float64\n",
            " 5   prevalentStroke  4238 non-null   int64  \n",
            " 6   prevalentHyp     4238 non-null   int64  \n",
            " 7   diabetes         4238 non-null   int64  \n",
            " 8   totChol          4238 non-null   float64\n",
            " 9   sysBP            4238 non-null   float64\n",
            " 10  diaBP            4238 non-null   float64\n",
            " 11  BMI              4238 non-null   float64\n",
            " 12  heartRate        4238 non-null   float64\n",
            " 13  glucose          4238 non-null   float64\n",
            " 14  TenYearCHD       4238 non-null   int64  \n",
            "dtypes: float64(8), int64(7)\n",
            "memory usage: 496.8 KB\n"
          ]
        }
      ]
    },
    {
      "cell_type": "code",
      "source": [
        "# CHD value counts\n",
        "dist_df = df.TenYearCHD.value_counts().to_frame()\n",
        "dist_df\n"
      ],
      "metadata": {
        "colab": {
          "base_uri": "https://localhost:8080/",
          "height": 112
        },
        "id": "_neJrZGb_wpz",
        "outputId": "babe0c5b-b73f-4d7d-f8ab-59476c1f02b5"
      },
      "execution_count": null,
      "outputs": [
        {
          "output_type": "execute_result",
          "data": {
            "text/plain": [
              "   TenYearCHD\n",
              "0        3594\n",
              "1         644"
            ],
            "text/html": [
              "\n",
              "  <div id=\"df-eec51ee0-619f-4268-962b-e1886eba771b\">\n",
              "    <div class=\"colab-df-container\">\n",
              "      <div>\n",
              "<style scoped>\n",
              "    .dataframe tbody tr th:only-of-type {\n",
              "        vertical-align: middle;\n",
              "    }\n",
              "\n",
              "    .dataframe tbody tr th {\n",
              "        vertical-align: top;\n",
              "    }\n",
              "\n",
              "    .dataframe thead th {\n",
              "        text-align: right;\n",
              "    }\n",
              "</style>\n",
              "<table border=\"1\" class=\"dataframe\">\n",
              "  <thead>\n",
              "    <tr style=\"text-align: right;\">\n",
              "      <th></th>\n",
              "      <th>TenYearCHD</th>\n",
              "    </tr>\n",
              "  </thead>\n",
              "  <tbody>\n",
              "    <tr>\n",
              "      <th>0</th>\n",
              "      <td>3594</td>\n",
              "    </tr>\n",
              "    <tr>\n",
              "      <th>1</th>\n",
              "      <td>644</td>\n",
              "    </tr>\n",
              "  </tbody>\n",
              "</table>\n",
              "</div>\n",
              "      <button class=\"colab-df-convert\" onclick=\"convertToInteractive('df-eec51ee0-619f-4268-962b-e1886eba771b')\"\n",
              "              title=\"Convert this dataframe to an interactive table.\"\n",
              "              style=\"display:none;\">\n",
              "        \n",
              "  <svg xmlns=\"http://www.w3.org/2000/svg\" height=\"24px\"viewBox=\"0 0 24 24\"\n",
              "       width=\"24px\">\n",
              "    <path d=\"M0 0h24v24H0V0z\" fill=\"none\"/>\n",
              "    <path d=\"M18.56 5.44l.94 2.06.94-2.06 2.06-.94-2.06-.94-.94-2.06-.94 2.06-2.06.94zm-11 1L8.5 8.5l.94-2.06 2.06-.94-2.06-.94L8.5 2.5l-.94 2.06-2.06.94zm10 10l.94 2.06.94-2.06 2.06-.94-2.06-.94-.94-2.06-.94 2.06-2.06.94z\"/><path d=\"M17.41 7.96l-1.37-1.37c-.4-.4-.92-.59-1.43-.59-.52 0-1.04.2-1.43.59L10.3 9.45l-7.72 7.72c-.78.78-.78 2.05 0 2.83L4 21.41c.39.39.9.59 1.41.59.51 0 1.02-.2 1.41-.59l7.78-7.78 2.81-2.81c.8-.78.8-2.07 0-2.86zM5.41 20L4 18.59l7.72-7.72 1.47 1.35L5.41 20z\"/>\n",
              "  </svg>\n",
              "      </button>\n",
              "      \n",
              "  <style>\n",
              "    .colab-df-container {\n",
              "      display:flex;\n",
              "      flex-wrap:wrap;\n",
              "      gap: 12px;\n",
              "    }\n",
              "\n",
              "    .colab-df-convert {\n",
              "      background-color: #E8F0FE;\n",
              "      border: none;\n",
              "      border-radius: 50%;\n",
              "      cursor: pointer;\n",
              "      display: none;\n",
              "      fill: #1967D2;\n",
              "      height: 32px;\n",
              "      padding: 0 0 0 0;\n",
              "      width: 32px;\n",
              "    }\n",
              "\n",
              "    .colab-df-convert:hover {\n",
              "      background-color: #E2EBFA;\n",
              "      box-shadow: 0px 1px 2px rgba(60, 64, 67, 0.3), 0px 1px 3px 1px rgba(60, 64, 67, 0.15);\n",
              "      fill: #174EA6;\n",
              "    }\n",
              "\n",
              "    [theme=dark] .colab-df-convert {\n",
              "      background-color: #3B4455;\n",
              "      fill: #D2E3FC;\n",
              "    }\n",
              "\n",
              "    [theme=dark] .colab-df-convert:hover {\n",
              "      background-color: #434B5C;\n",
              "      box-shadow: 0px 1px 3px 1px rgba(0, 0, 0, 0.15);\n",
              "      filter: drop-shadow(0px 1px 2px rgba(0, 0, 0, 0.3));\n",
              "      fill: #FFFFFF;\n",
              "    }\n",
              "  </style>\n",
              "\n",
              "      <script>\n",
              "        const buttonEl =\n",
              "          document.querySelector('#df-eec51ee0-619f-4268-962b-e1886eba771b button.colab-df-convert');\n",
              "        buttonEl.style.display =\n",
              "          google.colab.kernel.accessAllowed ? 'block' : 'none';\n",
              "\n",
              "        async function convertToInteractive(key) {\n",
              "          const element = document.querySelector('#df-eec51ee0-619f-4268-962b-e1886eba771b');\n",
              "          const dataTable =\n",
              "            await google.colab.kernel.invokeFunction('convertToInteractive',\n",
              "                                                     [key], {});\n",
              "          if (!dataTable) return;\n",
              "\n",
              "          const docLinkHtml = 'Like what you see? Visit the ' +\n",
              "            '<a target=\"_blank\" href=https://colab.research.google.com/notebooks/data_table.ipynb>data table notebook</a>'\n",
              "            + ' to learn more about interactive tables.';\n",
              "          element.innerHTML = '';\n",
              "          dataTable['output_type'] = 'display_data';\n",
              "          await google.colab.output.renderOutput(dataTable, element);\n",
              "          const docLink = document.createElement('div');\n",
              "          docLink.innerHTML = docLinkHtml;\n",
              "          element.appendChild(docLink);\n",
              "        }\n",
              "      </script>\n",
              "    </div>\n",
              "  </div>\n",
              "  "
            ]
          },
          "metadata": {},
          "execution_count": 41
        }
      ]
    },
    {
      "cell_type": "code",
      "source": [
        "dist_df.plot.bar()\n",
        "plt.title(\"Distribution of Heart Disease\")"
      ],
      "metadata": {
        "colab": {
          "base_uri": "https://localhost:8080/",
          "height": 295
        },
        "id": "KgNC-Xxvhklh",
        "outputId": "b9d3e71d-7239-4f85-cb0c-edd83c3f9d99"
      },
      "execution_count": null,
      "outputs": [
        {
          "output_type": "execute_result",
          "data": {
            "text/plain": [
              "Text(0.5, 1.0, 'Distribution of Heart Disease')"
            ]
          },
          "metadata": {},
          "execution_count": 42
        },
        {
          "output_type": "display_data",
          "data": {
            "text/plain": [
              "<Figure size 432x288 with 1 Axes>"
            ],
            "image/png": "[encoded data removed]"
          },
          "metadata": {
            "needs_background": "light"
          }
        }
      ]
    },
    {
      "cell_type": "code",
      "source": [
        "# To find the correlation of each column\n",
        "df.corr()"
      ],
      "metadata": {
        "colab": {
          "base_uri": "https://localhost:8080/",
          "height": 520
        },
        "id": "aEFJkGlSGxaP",
        "outputId": "085ab538-1d3f-4968-b99d-96e1f13c739f"
      },
      "execution_count": null,
      "outputs": [
        {
          "output_type": "execute_result",
          "data": {
            "text/plain": [
              "                     male       age  currentSmoker  cigsPerDay    BPMeds  \\\n",
              "male             1.000000 -0.028979       0.197596    0.315630 -0.052204   \n",
              "age             -0.028979  1.000000      -0.213748   -0.191847  0.121980   \n",
              "currentSmoker    0.197596 -0.213748       1.000000    0.760239 -0.048632   \n",
              "cigsPerDay       0.315630 -0.191847       0.760239    1.000000 -0.044826   \n",
              "BPMeds          -0.052204  0.121980      -0.048632   -0.044826  1.000000   \n",
              "prevalentStroke -0.004546  0.057655      -0.032988   -0.032244  0.115003   \n",
              "prevalentHyp     0.005313  0.307194      -0.103260   -0.065046  0.259243   \n",
              "diabetes         0.015708  0.101258      -0.044295   -0.036150  0.051571   \n",
              "totChol         -0.069974  0.260270      -0.046285   -0.026816  0.078909   \n",
              "sysBP           -0.035989  0.394302      -0.130230   -0.088375  0.252047   \n",
              "diaBP            0.057933  0.206104      -0.107746   -0.056687  0.192490   \n",
              "BMI              0.081506  0.135283      -0.167276   -0.092332  0.099552   \n",
              "heartRate       -0.116601 -0.012819       0.062348    0.073866  0.015175   \n",
              "glucose          0.005818  0.116850      -0.054157   -0.056650  0.048905   \n",
              "TenYearCHD       0.088428  0.225256       0.019456    0.058859  0.086774   \n",
              "\n",
              "                 prevalentStroke  prevalentHyp  diabetes   totChol     sysBP  \\\n",
              "male                   -0.004546      0.005313  0.015708 -0.069974 -0.035989   \n",
              "age                     0.057655      0.307194  0.101258  0.260270  0.394302   \n",
              "currentSmoker          -0.032988     -0.103260 -0.044295 -0.046285 -0.130230   \n",
              "cigsPerDay             -0.032244     -0.065046 -0.036150 -0.026816 -0.088375   \n",
              "BPMeds                  0.115003      0.259243  0.051571  0.078909  0.252047   \n",
              "prevalentStroke         1.000000      0.074830  0.006949  0.000067  0.057009   \n",
              "prevalentHyp            0.074830      1.000000  0.077808  0.163041  0.696755   \n",
              "diabetes                0.006949      0.077808  1.000000  0.040092  0.111283   \n",
              "totChol                 0.000067      0.163041  0.040092  1.000000  0.207609   \n",
              "sysBP                   0.057009      0.696755  0.111283  0.207609  1.000000   \n",
              "diaBP                   0.045190      0.615751  0.050329  0.163903  0.784002   \n",
              "BMI                     0.024840      0.300572  0.086250  0.114789  0.325247   \n",
              "heartRate              -0.017676      0.147222  0.048993  0.090676  0.182174   \n",
              "glucose                 0.018055      0.082924  0.605705  0.044583  0.134608   \n",
              "TenYearCHD              0.061810      0.177603  0.097317  0.081624  0.216429   \n",
              "\n",
              "                    diaBP       BMI  heartRate   glucose  TenYearCHD  \n",
              "male             0.057933  0.081506  -0.116601  0.005818    0.088428  \n",
              "age              0.206104  0.135283  -0.012819  0.116850    0.225256  \n",
              "currentSmoker   -0.107746 -0.167276   0.062348 -0.054157    0.019456  \n",
              "cigsPerDay      -0.056687 -0.092332   0.073866 -0.056650    0.058859  \n",
              "BPMeds           0.192490  0.099552   0.015175  0.048905    0.086774  \n",
              "prevalentStroke  0.045190  0.024840  -0.017676  0.018055    0.061810  \n",
              "prevalentHyp     0.615751  0.300572   0.147222  0.082924    0.177603  \n",
              "diabetes         0.050329  0.086250   0.048993  0.605705    0.097317  \n",
              "totChol          0.163903  0.114789   0.090676  0.044583    0.081624  \n",
              "sysBP            0.784002  0.325247   0.182174  0.134608    0.216429  \n",
              "diaBP            1.000000  0.376544   0.181246  0.058647    0.145299  \n",
              "BMI              0.376544  1.000000   0.067544  0.082109    0.074680  \n",
              "heartRate        0.181246  0.067544   1.000000  0.089341    0.022898  \n",
              "glucose          0.058647  0.082109   0.089341  1.000000    0.120406  \n",
              "TenYearCHD       0.145299  0.074680   0.022898  0.120406    1.000000  "
            ],
            "text/html": [
              "\n",
              "  <div id=\"df-c9399070-9a67-4eaf-8d57-c9ddfd23d7e8\">\n",
              "    <div class=\"colab-df-container\">\n",
              "      <div>\n",
              "<style scoped>\n",
              "    .dataframe tbody tr th:only-of-type {\n",
              "        vertical-align: middle;\n",
              "    }\n",
              "\n",
              "    .dataframe tbody tr th {\n",
              "        vertical-align: top;\n",
              "    }\n",
              "\n",
              "    .dataframe thead th {\n",
              "        text-align: right;\n",
              "    }\n",
              "</style>\n",
              "<table border=\"1\" class=\"dataframe\">\n",
              "  <thead>\n",
              "    <tr style=\"text-align: right;\">\n",
              "      <th></th>\n",
              "      <th>male</th>\n",
              "      <th>age</th>\n",
              "      <th>currentSmoker</th>\n",
              "      <th>cigsPerDay</th>\n",
              "      <th>BPMeds</th>\n",
              "      <th>prevalentStroke</th>\n",
              "      <th>prevalentHyp</th>\n",
              "      <th>diabetes</th>\n",
              "      <th>totChol</th>\n",
              "      <th>sysBP</th>\n",
              "      <th>diaBP</th>\n",
              "      <th>BMI</th>\n",
              "      <th>heartRate</th>\n",
              "      <th>glucose</th>\n",
              "      <th>TenYearCHD</th>\n",
              "    </tr>\n",
              "  </thead>\n",
              "  <tbody>\n",
              "    <tr>\n",
              "      <th>male</th>\n",
              "      <td>1.000000</td>\n",
              "      <td>-0.028979</td>\n",
              "      <td>0.197596</td>\n",
              "      <td>0.315630</td>\n",
              "      <td>-0.052204</td>\n",
              "      <td>-0.004546</td>\n",
              "      <td>0.005313</td>\n",
              "      <td>0.015708</td>\n",
              "      <td>-0.069974</td>\n",
              "      <td>-0.035989</td>\n",
              "      <td>0.057933</td>\n",
              "      <td>0.081506</td>\n",
              "      <td>-0.116601</td>\n",
              "      <td>0.005818</td>\n",
              "      <td>0.088428</td>\n",
              "    </tr>\n",
              "    <tr>\n",
              "      <th>age</th>\n",
              "      <td>-0.028979</td>\n",
              "      <td>1.000000</td>\n",
              "      <td>-0.213748</td>\n",
              "      <td>-0.191847</td>\n",
              "      <td>0.121980</td>\n",
              "      <td>0.057655</td>\n",
              "      <td>0.307194</td>\n",
              "      <td>0.101258</td>\n",
              "      <td>0.260270</td>\n",
              "      <td>0.394302</td>\n",
              "      <td>0.206104</td>\n",
              "      <td>0.135283</td>\n",
              "      <td>-0.012819</td>\n",
              "      <td>0.116850</td>\n",
              "      <td>0.225256</td>\n",
              "    </tr>\n",
              "    <tr>\n",
              "      <th>currentSmoker</th>\n",
              "      <td>0.197596</td>\n",
              "      <td>-0.213748</td>\n",
              "      <td>1.000000</td>\n",
              "      <td>0.760239</td>\n",
              "      <td>-0.048632</td>\n",
              "      <td>-0.032988</td>\n",
              "      <td>-0.103260</td>\n",
              "      <td>-0.044295</td>\n",
              "      <td>-0.046285</td>\n",
              "      <td>-0.130230</td>\n",
              "      <td>-0.107746</td>\n",
              "      <td>-0.167276</td>\n",
              "      <td>0.062348</td>\n",
              "      <td>-0.054157</td>\n",
              "      <td>0.019456</td>\n",
              "    </tr>\n",
              "    <tr>\n",
              "      <th>cigsPerDay</th>\n",
              "      <td>0.315630</td>\n",
              "      <td>-0.191847</td>\n",
              "      <td>0.760239</td>\n",
              "      <td>1.000000</td>\n",
              "      <td>-0.044826</td>\n",
              "      <td>-0.032244</td>\n",
              "      <td>-0.065046</td>\n",
              "      <td>-0.036150</td>\n",
              "      <td>-0.026816</td>\n",
              "      <td>-0.088375</td>\n",
              "      <td>-0.056687</td>\n",
              "      <td>-0.092332</td>\n",
              "      <td>0.073866</td>\n",
              "      <td>-0.056650</td>\n",
              "      <td>0.058859</td>\n",
              "    </tr>\n",
              "    <tr>\n",
              "      <th>BPMeds</th>\n",
              "      <td>-0.052204</td>\n",
              "      <td>0.121980</td>\n",
              "      <td>-0.048632</td>\n",
              "      <td>-0.044826</td>\n",
              "      <td>1.000000</td>\n",
              "      <td>0.115003</td>\n",
              "      <td>0.259243</td>\n",
              "      <td>0.051571</td>\n",
              "      <td>0.078909</td>\n",
              "      <td>0.252047</td>\n",
              "      <td>0.192490</td>\n",
              "      <td>0.099552</td>\n",
              "      <td>0.015175</td>\n",
              "      <td>0.048905</td>\n",
              "      <td>0.086774</td>\n",
              "    </tr>\n",
              "    <tr>\n",
              "      <th>prevalentStroke</th>\n",
              "      <td>-0.004546</td>\n",
              "      <td>0.057655</td>\n",
              "      <td>-0.032988</td>\n",
              "      <td>-0.032244</td>\n",
              "      <td>0.115003</td>\n",
              "      <td>1.000000</td>\n",
              "      <td>0.074830</td>\n",
              "      <td>0.006949</td>\n",
              "      <td>0.000067</td>\n",
              "      <td>0.057009</td>\n",
              "      <td>0.045190</td>\n",
              "      <td>0.024840</td>\n",
              "      <td>-0.017676</td>\n",
              "      <td>0.018055</td>\n",
              "      <td>0.061810</td>\n",
              "    </tr>\n",
              "    <tr>\n",
              "      <th>prevalentHyp</th>\n",
              "      <td>0.005313</td>\n",
              "      <td>0.307194</td>\n",
              "      <td>-0.103260</td>\n",
              "      <td>-0.065046</td>\n",
              "      <td>0.259243</td>\n",
              "      <td>0.074830</td>\n",
              "      <td>1.000000</td>\n",
              "      <td>0.077808</td>\n",
              "      <td>0.163041</td>\n",
              "      <td>0.696755</td>\n",
              "      <td>0.615751</td>\n",
              "      <td>0.300572</td>\n",
              "      <td>0.147222</td>\n",
              "      <td>0.082924</td>\n",
              "      <td>0.177603</td>\n",
              "    </tr>\n",
              "    <tr>\n",
              "      <th>diabetes</th>\n",
              "      <td>0.015708</td>\n",
              "      <td>0.101258</td>\n",
              "      <td>-0.044295</td>\n",
              "      <td>-0.036150</td>\n",
              "      <td>0.051571</td>\n",
              "      <td>0.006949</td>\n",
              "      <td>0.077808</td>\n",
              "      <td>1.000000</td>\n",
              "      <td>0.040092</td>\n",
              "      <td>0.111283</td>\n",
              "      <td>0.050329</td>\n",
              "      <td>0.086250</td>\n",
              "      <td>0.048993</td>\n",
              "      <td>0.605705</td>\n",
              "      <td>0.097317</td>\n",
              "    </tr>\n",
              "    <tr>\n",
              "      <th>totChol</th>\n",
              "      <td>-0.069974</td>\n",
              "      <td>0.260270</td>\n",
              "      <td>-0.046285</td>\n",
              "      <td>-0.026816</td>\n",
              "      <td>0.078909</td>\n",
              "      <td>0.000067</td>\n",
              "      <td>0.163041</td>\n",
              "      <td>0.040092</td>\n",
              "      <td>1.000000</td>\n",
              "      <td>0.207609</td>\n",
              "      <td>0.163903</td>\n",
              "      <td>0.114789</td>\n",
              "      <td>0.090676</td>\n",
              "      <td>0.044583</td>\n",
              "      <td>0.081624</td>\n",
              "    </tr>\n",
              "    <tr>\n",
              "      <th>sysBP</th>\n",
              "      <td>-0.035989</td>\n",
              "      <td>0.394302</td>\n",
              "      <td>-0.130230</td>\n",
              "      <td>-0.088375</td>\n",
              "      <td>0.252047</td>\n",
              "      <td>0.057009</td>\n",
              "      <td>0.696755</td>\n",
              "      <td>0.111283</td>\n",
              "      <td>0.207609</td>\n",
              "      <td>1.000000</td>\n",
              "      <td>0.784002</td>\n",
              "      <td>0.325247</td>\n",
              "      <td>0.182174</td>\n",
              "      <td>0.134608</td>\n",
              "      <td>0.216429</td>\n",
              "    </tr>\n",
              "    <tr>\n",
              "      <th>diaBP</th>\n",
              "      <td>0.057933</td>\n",
              "      <td>0.206104</td>\n",
              "      <td>-0.107746</td>\n",
              "      <td>-0.056687</td>\n",
              "      <td>0.192490</td>\n",
              "      <td>0.045190</td>\n",
              "      <td>0.615751</td>\n",
              "      <td>0.050329</td>\n",
              "      <td>0.163903</td>\n",
              "      <td>0.784002</td>\n",
              "      <td>1.000000</td>\n",
              "      <td>0.376544</td>\n",
              "      <td>0.181246</td>\n",
              "      <td>0.058647</td>\n",
              "      <td>0.145299</td>\n",
              "    </tr>\n",
              "    <tr>\n",
              "      <th>BMI</th>\n",
              "      <td>0.081506</td>\n",
              "      <td>0.135283</td>\n",
              "      <td>-0.167276</td>\n",
              "      <td>-0.092332</td>\n",
              "      <td>0.099552</td>\n",
              "      <td>0.024840</td>\n",
              "      <td>0.300572</td>\n",
              "      <td>0.086250</td>\n",
              "      <td>0.114789</td>\n",
              "      <td>0.325247</td>\n",
              "      <td>0.376544</td>\n",
              "      <td>1.000000</td>\n",
              "      <td>0.067544</td>\n",
              "      <td>0.082109</td>\n",
              "      <td>0.074680</td>\n",
              "    </tr>\n",
              "    <tr>\n",
              "      <th>heartRate</th>\n",
              "      <td>-0.116601</td>\n",
              "      <td>-0.012819</td>\n",
              "      <td>0.062348</td>\n",
              "      <td>0.073866</td>\n",
              "      <td>0.015175</td>\n",
              "      <td>-0.017676</td>\n",
              "      <td>0.147222</td>\n",
              "      <td>0.048993</td>\n",
              "      <td>0.090676</td>\n",
              "      <td>0.182174</td>\n",
              "      <td>0.181246</td>\n",
              "      <td>0.067544</td>\n",
              "      <td>1.000000</td>\n",
              "      <td>0.089341</td>\n",
              "      <td>0.022898</td>\n",
              "    </tr>\n",
              "    <tr>\n",
              "      <th>glucose</th>\n",
              "      <td>0.005818</td>\n",
              "      <td>0.116850</td>\n",
              "      <td>-0.054157</td>\n",
              "      <td>-0.056650</td>\n",
              "      <td>0.048905</td>\n",
              "      <td>0.018055</td>\n",
              "      <td>0.082924</td>\n",
              "      <td>0.605705</td>\n",
              "      <td>0.044583</td>\n",
              "      <td>0.134608</td>\n",
              "      <td>0.058647</td>\n",
              "      <td>0.082109</td>\n",
              "      <td>0.089341</td>\n",
              "      <td>1.000000</td>\n",
              "      <td>0.120406</td>\n",
              "    </tr>\n",
              "    <tr>\n",
              "      <th>TenYearCHD</th>\n",
              "      <td>0.088428</td>\n",
              "      <td>0.225256</td>\n",
              "      <td>0.019456</td>\n",
              "      <td>0.058859</td>\n",
              "      <td>0.086774</td>\n",
              "      <td>0.061810</td>\n",
              "      <td>0.177603</td>\n",
              "      <td>0.097317</td>\n",
              "      <td>0.081624</td>\n",
              "      <td>0.216429</td>\n",
              "      <td>0.145299</td>\n",
              "      <td>0.074680</td>\n",
              "      <td>0.022898</td>\n",
              "      <td>0.120406</td>\n",
              "      <td>1.000000</td>\n",
              "    </tr>\n",
              "  </tbody>\n",
              "</table>\n",
              "</div>\n",
              "      <button class=\"colab-df-convert\" onclick=\"convertToInteractive('df-c9399070-9a67-4eaf-8d57-c9ddfd23d7e8')\"\n",
              "              title=\"Convert this dataframe to an interactive table.\"\n",
              "              style=\"display:none;\">\n",
              "        \n",
              "  <svg xmlns=\"http://www.w3.org/2000/svg\" height=\"24px\"viewBox=\"0 0 24 24\"\n",
              "       width=\"24px\">\n",
              "    <path d=\"M0 0h24v24H0V0z\" fill=\"none\"/>\n",
              "    <path d=\"M18.56 5.44l.94 2.06.94-2.06 2.06-.94-2.06-.94-.94-2.06-.94 2.06-2.06.94zm-11 1L8.5 8.5l.94-2.06 2.06-.94-2.06-.94L8.5 2.5l-.94 2.06-2.06.94zm10 10l.94 2.06.94-2.06 2.06-.94-2.06-.94-.94-2.06-.94 2.06-2.06.94z\"/><path d=\"M17.41 7.96l-1.37-1.37c-.4-.4-.92-.59-1.43-.59-.52 0-1.04.2-1.43.59L10.3 9.45l-7.72 7.72c-.78.78-.78 2.05 0 2.83L4 21.41c.39.39.9.59 1.41.59.51 0 1.02-.2 1.41-.59l7.78-7.78 2.81-2.81c.8-.78.8-2.07 0-2.86zM5.41 20L4 18.59l7.72-7.72 1.47 1.35L5.41 20z\"/>\n",
              "  </svg>\n",
              "      </button>\n",
              "      \n",
              "  <style>\n",
              "    .colab-df-container {\n",
              "      display:flex;\n",
              "      flex-wrap:wrap;\n",
              "      gap: 12px;\n",
              "    }\n",
              "\n",
              "    .colab-df-convert {\n",
              "      background-color: #E8F0FE;\n",
              "      border: none;\n",
              "      border-radius: 50%;\n",
              "      cursor: pointer;\n",
              "      display: none;\n",
              "      fill: #1967D2;\n",
              "      height: 32px;\n",
              "      padding: 0 0 0 0;\n",
              "      width: 32px;\n",
              "    }\n",
              "\n",
              "    .colab-df-convert:hover {\n",
              "      background-color: #E2EBFA;\n",
              "      box-shadow: 0px 1px 2px rgba(60, 64, 67, 0.3), 0px 1px 3px 1px rgba(60, 64, 67, 0.15);\n",
              "      fill: #174EA6;\n",
              "    }\n",
              "\n",
              "    [theme=dark] .colab-df-convert {\n",
              "      background-color: #3B4455;\n",
              "      fill: #D2E3FC;\n",
              "    }\n",
              "\n",
              "    [theme=dark] .colab-df-convert:hover {\n",
              "      background-color: #434B5C;\n",
              "      box-shadow: 0px 1px 3px 1px rgba(0, 0, 0, 0.15);\n",
              "      filter: drop-shadow(0px 1px 2px rgba(0, 0, 0, 0.3));\n",
              "      fill: #FFFFFF;\n",
              "    }\n",
              "  </style>\n",
              "\n",
              "      <script>\n",
              "        const buttonEl =\n",
              "          document.querySelector('#df-c9399070-9a67-4eaf-8d57-c9ddfd23d7e8 button.colab-df-convert');\n",
              "        buttonEl.style.display =\n",
              "          google.colab.kernel.accessAllowed ? 'block' : 'none';\n",
              "\n",
              "        async function convertToInteractive(key) {\n",
              "          const element = document.querySelector('#df-c9399070-9a67-4eaf-8d57-c9ddfd23d7e8');\n",
              "          const dataTable =\n",
              "            await google.colab.kernel.invokeFunction('convertToInteractive',\n",
              "                                                     [key], {});\n",
              "          if (!dataTable) return;\n",
              "\n",
              "          const docLinkHtml = 'Like what you see? Visit the ' +\n",
              "            '<a target=\"_blank\" href=https://colab.research.google.com/notebooks/data_table.ipynb>data table notebook</a>'\n",
              "            + ' to learn more about interactive tables.';\n",
              "          element.innerHTML = '';\n",
              "          dataTable['output_type'] = 'display_data';\n",
              "          await google.colab.output.renderOutput(dataTable, element);\n",
              "          const docLink = document.createElement('div');\n",
              "          docLink.innerHTML = docLinkHtml;\n",
              "          element.appendChild(docLink);\n",
              "        }\n",
              "      </script>\n",
              "    </div>\n",
              "  </div>\n",
              "  "
            ]
          },
          "metadata": {},
          "execution_count": 43
        }
      ]
    },
    {
      "cell_type": "markdown",
      "source": [
        "**DATA VISUALIZATION**\n",
        "\n",
        "*Data visualization is the graphical representation of information and data. It provides the viewer easy understanding of the dataset. Commonly visual representation is done using charts, graphs, maps,etc. It provides an easy way to see and understand trends, outliers, and patterns in data.*"
      ],
      "metadata": {
        "id": "tdppwff6BjvY"
      }
    },
    {
      "cell_type": "code",
      "source": [
        "df_counts = df.male.value_counts()\n",
        "df_counts"
      ],
      "metadata": {
        "colab": {
          "base_uri": "https://localhost:8080/"
        },
        "id": "SqhSv2HXN_wd",
        "outputId": "80695df4-9c31-4091-918b-f6bf1030eede"
      },
      "execution_count": null,
      "outputs": [
        {
          "output_type": "execute_result",
          "data": {
            "text/plain": [
              "0    2419\n",
              "1    1819\n",
              "Name: male, dtype: int64"
            ]
          },
          "metadata": {},
          "execution_count": 44
        }
      ]
    },
    {
      "cell_type": "code",
      "source": [
        "# Visualize the value counts\n",
        "df_counts.plot.bar()"
      ],
      "metadata": {
        "colab": {
          "base_uri": "https://localhost:8080/",
          "height": 279
        },
        "id": "dvSGwejjahSj",
        "outputId": "f4088b33-5d25-4b5f-a277-7fc1c2e77a92"
      },
      "execution_count": null,
      "outputs": [
        {
          "output_type": "execute_result",
          "data": {
            "text/plain": [
              "<matplotlib.axes._subplots.AxesSubplot at 0x7fe9fd6bb4c0>"
            ]
          },
          "metadata": {},
          "execution_count": 45
        },
        {
          "output_type": "display_data",
          "data": {
            "text/plain": [
              "<Figure size 432x288 with 1 Axes>"
            ],
            "image/png": "[encoded data removed]"
          },
          "metadata": {
            "needs_background": "light"
          }
        }
      ]
    },
    {
      "cell_type": "code",
      "source": [
        "## Distribution of heart diseases\n",
        "import seaborn as sns\n",
        "plt.figure(figsize=(6,6))\n",
        "plt.title(\"Distribution of Heart Disease\")\n",
        "df[\"TenYearCHD\"].value_counts().plot(kind=\"pie\",colors= sns.color_palette('pastel')[8:],explode = (0, 0.1) ,autopct='%1.2f%%')"
      ],
      "metadata": {
        "colab": {
          "base_uri": "https://localhost:8080/",
          "height": 390
        },
        "id": "a65mHWX3CcWA",
        "outputId": "0996a3d6-2934-4095-9bb7-d794eeb0e33e"
      },
      "execution_count": null,
      "outputs": [
        {
          "output_type": "execute_result",
          "data": {
            "text/plain": [
              "<matplotlib.axes._subplots.AxesSubplot at 0x7fe9fd87fa30>"
            ]
          },
          "metadata": {},
          "execution_count": 46
        },
        {
          "output_type": "display_data",
          "data": {
            "text/plain": [
              "<Figure size 432x432 with 1 Axes>"
            ],
            "image/png": "[encoded data removed]"
          },
          "metadata": {}
        }
      ]
    },
    {
      "cell_type": "code",
      "source": [
        "## Male population distribution\n",
        "plt.figure(figsize=(6,6))\n",
        "plt.title(\"Male Distribution\")\n",
        "df['male'].value_counts().plot(kind=\"pie\",colors= sns.color_palette('pastel')[8:],autopct='%1.2f%%')"
      ],
      "metadata": {
        "colab": {
          "base_uri": "https://localhost:8080/",
          "height": 390
        },
        "id": "aXIygB0JCcaW",
        "outputId": "bc684639-bfd2-404b-ddd4-886334704aaf"
      },
      "execution_count": null,
      "outputs": [
        {
          "output_type": "execute_result",
          "data": {
            "text/plain": [
              "<matplotlib.axes._subplots.AxesSubplot at 0x7fe9fd64c880>"
            ]
          },
          "metadata": {},
          "execution_count": 47
        },
        {
          "output_type": "display_data",
          "data": {
            "text/plain": [
              "<Figure size 432x432 with 1 Axes>"
            ],
            "image/png": "[encoded data removed]"
          },
          "metadata": {}
        }
      ]
    },
    {
      "cell_type": "code",
      "source": [
        "## Currently Smokers distribution\n",
        "plt.figure(figsize=(6,6))\n",
        "plt.title(\"Smoker Distribution\")\n",
        "df[\"currentSmoker\"].value_counts().plot(kind=\"pie\",colors= sns.color_palette('pastel')[8:],autopct='%1.2f%%')"
      ],
      "metadata": {
        "colab": {
          "base_uri": "https://localhost:8080/",
          "height": 390
        },
        "id": "STABCWQOCcd0",
        "outputId": "2fcc14c8-e942-42a9-b6d9-dd3571aa3155"
      },
      "execution_count": null,
      "outputs": [
        {
          "output_type": "execute_result",
          "data": {
            "text/plain": [
              "<matplotlib.axes._subplots.AxesSubplot at 0x7fe9fd60ee20>"
            ]
          },
          "metadata": {},
          "execution_count": 48
        },
        {
          "output_type": "display_data",
          "data": {
            "text/plain": [
              "<Figure size 432x432 with 1 Axes>"
            ],
            "image/png": "[encoded data removed]"
          },
          "metadata": {}
        }
      ]
    },
    {
      "cell_type": "code",
      "source": [
        "## Diabetes distribution\n",
        "plt.figure(figsize=(6,6))\n",
        "plt.title(\"Diabetes Distribution\")\n",
        "df[\"diabetes\"].value_counts().plot(kind=\"pie\",colors= sns.color_palette('pastel')[8:],explode = (0, 0.2),autopct='%1.2f%%')"
      ],
      "metadata": {
        "colab": {
          "base_uri": "https://localhost:8080/",
          "height": 390
        },
        "id": "l9_7dXVVCcg8",
        "outputId": "38c6639c-787a-4966-e765-d9dd80eccc3e"
      },
      "execution_count": null,
      "outputs": [
        {
          "output_type": "execute_result",
          "data": {
            "text/plain": [
              "<matplotlib.axes._subplots.AxesSubplot at 0x7fe9fd744a30>"
            ]
          },
          "metadata": {},
          "execution_count": 49
        },
        {
          "output_type": "display_data",
          "data": {
            "text/plain": [
              "<Figure size 432x432 with 1 Axes>"
            ],
            "image/png": "[encoded data removed]"
          },
          "metadata": {}
        }
      ]
    },
    {
      "cell_type": "code",
      "source": [
        "## bar plot to plot heart disease affect on heart rate\n",
        "#heart rate doesnot have much impact on heart diseases\n",
        "import seaborn as sns\n",
        "\n",
        "plt.figure(figsize=(6,6))\n",
        "sns.barplot(x=\"TenYearCHD\",y=\"heartRate\",data=df, palette=\"RdPu\")\n",
        "plt.title(\"Heart Rate impact on Heart Disase\")"
      ],
      "metadata": {
        "colab": {
          "base_uri": "https://localhost:8080/",
          "height": 421
        },
        "id": "Nq_poZC7CckX",
        "outputId": "1f0cca9c-dbef-4c78-fce1-a39462a2497e"
      },
      "execution_count": null,
      "outputs": [
        {
          "output_type": "execute_result",
          "data": {
            "text/plain": [
              "Text(0.5, 1.0, 'Heart Rate impact on Heart Disase')"
            ]
          },
          "metadata": {},
          "execution_count": 50
        },
        {
          "output_type": "display_data",
          "data": {
            "text/plain": [
              "<Figure size 432x432 with 1 Axes>"
            ],
            "image/png": "[encoded data removed]"
          },
          "metadata": {
            "needs_background": "light"
          }
        }
      ]
    },
    {
      "cell_type": "code",
      "source": [
        "## bar plot to plot glucose level impact on heart disease\n",
        "plt.figure(figsize=(6,6))\n",
        "sns.barplot(x=\"TenYearCHD\",y=\"glucose\",data=df, palette=\"RdPu\")\n",
        "plt.title(\"Glucose impact on Heart Disase\")"
      ],
      "metadata": {
        "colab": {
          "base_uri": "https://localhost:8080/",
          "height": 421
        },
        "id": "W_beAlRVFuBk",
        "outputId": "6b461b3c-ae96-4d72-ea7e-838736b6419f"
      },
      "execution_count": null,
      "outputs": [
        {
          "output_type": "execute_result",
          "data": {
            "text/plain": [
              "Text(0.5, 1.0, 'Glucose impact on Heart Disase')"
            ]
          },
          "metadata": {},
          "execution_count": 51
        },
        {
          "output_type": "display_data",
          "data": {
            "text/plain": [
              "<Figure size 432x432 with 1 Axes>"
            ],
            "image/png": "[encoded data removed]"
          },
          "metadata": {
            "needs_background": "light"
          }
        }
      ]
    },
    {
      "cell_type": "code",
      "source": [
        "## bar plot to plot sysBP impact on heart disease\n",
        "plt.figure(figsize=(6,6))\n",
        "sns.barplot(x=\"TenYearCHD\",y=\"sysBP\",data=df, palette=\"RdPu\")\n",
        "plt.title(\"BP impact on Heart Disase\")"
      ],
      "metadata": {
        "colab": {
          "base_uri": "https://localhost:8080/",
          "height": 421
        },
        "id": "I-mEXR_hFY2o",
        "outputId": "5c327c5f-5921-4730-f3b5-cf6989474a1f"
      },
      "execution_count": null,
      "outputs": [
        {
          "output_type": "execute_result",
          "data": {
            "text/plain": [
              "Text(0.5, 1.0, 'BP impact on Heart Disase')"
            ]
          },
          "metadata": {},
          "execution_count": 52
        },
        {
          "output_type": "display_data",
          "data": {
            "text/plain": [
              "<Figure size 432x432 with 1 Axes>"
            ],
            "image/png": "[encoded data removed]"
          },
          "metadata": {
            "needs_background": "light"
          }
        }
      ]
    },
    {
      "cell_type": "code",
      "source": [
        "## bar plot to plot sysBP impact on heart disease\n",
        "plt.figure(figsize=(6,6))\n",
        "sns.barplot(x=\"TenYearCHD\",y=\"sysBP\",data=df, palette=\"RdPu\")\n",
        "plt.title(\"BP impact on Heart Disase\")"
      ],
      "metadata": {
        "colab": {
          "base_uri": "https://localhost:8080/",
          "height": 421
        },
        "id": "waczz-EPFY53",
        "outputId": "5e11d4a7-95dd-4611-db23-02de5f0fcaa5"
      },
      "execution_count": null,
      "outputs": [
        {
          "output_type": "execute_result",
          "data": {
            "text/plain": [
              "Text(0.5, 1.0, 'BP impact on Heart Disase')"
            ]
          },
          "metadata": {},
          "execution_count": 53
        },
        {
          "output_type": "display_data",
          "data": {
            "text/plain": [
              "<Figure size 432x432 with 1 Axes>"
            ],
            "image/png": "[encoded data removed]"
          },
          "metadata": {
            "needs_background": "light"
          }
        }
      ]
    },
    {
      "cell_type": "code",
      "source": [
        "## bar plot to plot cigs per day impact on heart disease\n",
        "plt.figure(figsize=(6,6))\n",
        "sns.barplot(x=\"TenYearCHD\",y=\"cigsPerDay\",data=df, palette=\"RdPu\")\n",
        "\n",
        "plt.title(\"Ciagrettes impact on Heart Disase\")"
      ],
      "metadata": {
        "colab": {
          "base_uri": "https://localhost:8080/",
          "height": 421
        },
        "id": "8jTGT7S0FY8i",
        "outputId": "2912b889-e8b2-412a-c647-bef17638fae6"
      },
      "execution_count": null,
      "outputs": [
        {
          "output_type": "execute_result",
          "data": {
            "text/plain": [
              "Text(0.5, 1.0, 'Ciagrettes impact on Heart Disase')"
            ]
          },
          "metadata": {},
          "execution_count": 54
        },
        {
          "output_type": "display_data",
          "data": {
            "text/plain": [
              "<Figure size 432x432 with 1 Axes>"
            ],
            "image/png": "[encoded data removed]"
          },
          "metadata": {
            "needs_background": "light"
          }
        }
      ]
    },
    {
      "cell_type": "code",
      "source": [
        "## bar plot to plot stroke impact on heart disease\n",
        "#  population suffering from Stroke has higher probability of suffering from heart diseses\n",
        "plt.figure(figsize=(6,6))\n",
        "sns.barplot(x=\"TenYearCHD\",y=\"prevalentStroke\",data=df, palette=\"RdPu\")\n",
        "\n",
        "plt.title(\"Stroke impact on Heart Disase\")"
      ],
      "metadata": {
        "colab": {
          "base_uri": "https://localhost:8080/",
          "height": 421
        },
        "id": "nFKLBmNiFY_j",
        "outputId": "679f7a3f-135e-4555-a965-85dbf4466fd1"
      },
      "execution_count": null,
      "outputs": [
        {
          "output_type": "execute_result",
          "data": {
            "text/plain": [
              "Text(0.5, 1.0, 'Stroke impact on Heart Disase')"
            ]
          },
          "metadata": {},
          "execution_count": 55
        },
        {
          "output_type": "display_data",
          "data": {
            "text/plain": [
              "<Figure size 432x432 with 1 Axes>"
            ],
            "image/png": "[encoded data removed]"
          },
          "metadata": {
            "needs_background": "light"
          }
        }
      ]
    },
    {
      "cell_type": "code",
      "source": [
        "\n",
        "## bar plot to plot hypertension impact on heart disease\n",
        "# population suffering from Hypertension have higher chances of having Heart Diseases\n",
        "\n",
        "plt.figure(figsize=(6,6))\n",
        "sns.barplot(x=\"TenYearCHD\",y=\"prevalentHyp\",data=df, palette=\"RdPu\")\n",
        "\n",
        "plt.title(\"Hypertension impact on Heart Disase\")"
      ],
      "metadata": {
        "colab": {
          "base_uri": "https://localhost:8080/",
          "height": 421
        },
        "id": "lmcNbGZqFZDn",
        "outputId": "9b35e1d0-8392-4c00-9752-1d1af352bc3b"
      },
      "execution_count": null,
      "outputs": [
        {
          "output_type": "execute_result",
          "data": {
            "text/plain": [
              "Text(0.5, 1.0, 'Hypertension impact on Heart Disase')"
            ]
          },
          "metadata": {},
          "execution_count": 56
        },
        {
          "output_type": "display_data",
          "data": {
            "text/plain": [
              "<Figure size 432x432 with 1 Axes>"
            ],
            "image/png": "[encoded data removed]"
          },
          "metadata": {
            "needs_background": "light"
          }
        }
      ]
    },
    {
      "cell_type": "code",
      "source": [
        "# he heart rate of the male population keeps on increasing, irrespective of the Cholestrol level.\n",
        "\n",
        "plt.figure(figsize=(10,10))\n",
        "sns.scatterplot(y = 'totChol', x = 'heartRate',data=df[df.male==1])\n",
        "plt.title(\"Cholestrol impact on Heart Rate for male\")"
      ],
      "metadata": {
        "colab": {
          "base_uri": "https://localhost:8080/",
          "height": 638
        },
        "id": "LqeZEJbWFZG6",
        "outputId": "350915f6-d273-4204-820e-2738d0f1ef93"
      },
      "execution_count": null,
      "outputs": [
        {
          "output_type": "execute_result",
          "data": {
            "text/plain": [
              "Text(0.5, 1.0, 'Cholestrol impact on Heart Rate for male')"
            ]
          },
          "metadata": {},
          "execution_count": 57
        },
        {
          "output_type": "display_data",
          "data": {
            "text/plain": [
              "<Figure size 720x720 with 1 Axes>"
            ],
            "image/png": "[encoded data removed]"
          },
          "metadata": {
            "needs_background": "light"
          }
        }
      ]
    },
    {
      "cell_type": "code",
      "source": [
        "plt.figure(figsize=(10,10))\n",
        "sns.scatterplot(y = 'totChol', x = 'heartRate',data=df[df.male==0], color=\"green\")\n",
        "plt.title(\"Cholestrol impact on Heart Rate for female\")"
      ],
      "metadata": {
        "colab": {
          "base_uri": "https://localhost:8080/",
          "height": 638
        },
        "id": "YAc0Kq0RIXpP",
        "outputId": "2180f4a9-44c6-4e6e-c2a8-39cc753dcff7"
      },
      "execution_count": null,
      "outputs": [
        {
          "output_type": "execute_result",
          "data": {
            "text/plain": [
              "Text(0.5, 1.0, 'Cholestrol impact on Heart Rate for female')"
            ]
          },
          "metadata": {},
          "execution_count": 58
        },
        {
          "output_type": "display_data",
          "data": {
            "text/plain": [
              "<Figure size 720x720 with 1 Axes>"
            ],
            "image/png": "[encoded data removed]"
          },
          "metadata": {
            "needs_background": "light"
          }
        }
      ]
    },
    {
      "cell_type": "code",
      "source": [
        "# Boxplot to see the outliers\n",
        "plt.figure(figsize=(20,10)) # Set plot dimensions\n",
        "sns.boxplot(data=df)"
      ],
      "metadata": {
        "colab": {
          "base_uri": "https://localhost:8080/",
          "height": 609
        },
        "id": "ANxA9Zi6JoyB",
        "outputId": "2b9752b1-2274-485b-f07b-2dd6cb5965f4"
      },
      "execution_count": null,
      "outputs": [
        {
          "output_type": "execute_result",
          "data": {
            "text/plain": [
              "<matplotlib.axes._subplots.AxesSubplot at 0x7fe9fd52a0d0>"
            ]
          },
          "metadata": {},
          "execution_count": 59
        },
        {
          "output_type": "display_data",
          "data": {
            "text/plain": [
              "<Figure size 1440x720 with 1 Axes>"
            ],
            "image/png": "[encoded data removed]"
          },
          "metadata": {
            "needs_background": "light"
          }
        }
      ]
    },
    {
      "cell_type": "markdown",
      "source": [
        "**SPLITTING DATA - TRAINING AND TESTING SETS**\n",
        "\n",
        "*The data is splitted into 2 groups. One for training purpose and teh other for testing purpose.*"
      ],
      "metadata": {
        "id": "5qVjAEv-KnbM"
      }
    },
    {
      "cell_type": "code",
      "source": [
        "# Importing the required packages for data modeling\n",
        "from sklearn.linear_model import LogisticRegression\n",
        "from sklearn.model_selection import train_test_split\n",
        "from sklearn.preprocessing import StandardScaler\n",
        "from sklearn.metrics import confusion_matrix, accuracy_score,roc_curve, classification_report\n",
        "from statsmodels.tools import add_constant\n",
        "import warnings\n",
        "warnings.filterwarnings('ignore')\n",
        "\n",
        "\n",
        "#ensembling\n",
        "# from mlxtend.classifier import StackingCVClassifier\n",
        "\n",
        "# Defining the variables X & y\n",
        "X = df.drop(['TenYearCHD'], axis=1)\n",
        "X = add_constant(X)\n",
        "y = df['TenYearCHD']\n",
        "\n",
        "# Split the preprocessed dataset into the Training and Test dataset\n",
        "X_train, X_test, y_train, y_test = train_test_split(X, y, test_size=0.50, random_state=0)\n",
        "\n",
        "# Create a StandardScaler instances\n",
        "scaler =StandardScaler()\n",
        "\n",
        "# Scaling & fit the data\n",
        "X_train = scaler.fit_transform(X_train)\n",
        "X_test = scaler.transform(X_test)\n",
        "\n"
      ],
      "metadata": {
        "id": "uAqzEzfO8lbJ"
      },
      "execution_count": null,
      "outputs": []
    },
    {
      "cell_type": "code",
      "source": [
        "# Checking if the data is equally split (if unbalanced or not)\n",
        "from collections import Counter\n",
        "print(y_test.unique())\n",
        "Counter(y_train)"
      ],
      "metadata": {
        "colab": {
          "base_uri": "https://localhost:8080/"
        },
        "id": "hF7NrUmdhGxP",
        "outputId": "7f7f0d30-e805-4f0f-d887-612e365bc10a"
      },
      "execution_count": null,
      "outputs": [
        {
          "output_type": "stream",
          "name": "stdout",
          "text": [
            "[0 1]\n"
          ]
        },
        {
          "output_type": "execute_result",
          "data": {
            "text/plain": [
              "Counter({0: 1790, 1: 329})"
            ]
          },
          "metadata": {},
          "execution_count": 62
        }
      ]
    },
    {
      "cell_type": "code",
      "source": [
        "#Graphical representation on the dataset in histograms \n",
        "fig = plt.figure(figsize = (15,20))\n",
        "ax = fig.gca()\n",
        "pd.DataFrame(X).hist(ax = ax)"
      ],
      "metadata": {
        "colab": {
          "base_uri": "https://localhost:8080/",
          "height": 1000
        },
        "id": "u0F4dbBNauSJ",
        "outputId": "5798f850-47dd-49ae-a368-7cf1bcdc4ef2"
      },
      "execution_count": null,
      "outputs": [
        {
          "output_type": "execute_result",
          "data": {
            "text/plain": [
              "array([[<matplotlib.axes._subplots.AxesSubplot object at 0x7fe9fb926f70>,\n",
              "        <matplotlib.axes._subplots.AxesSubplot object at 0x7fe9fb7b75e0>,\n",
              "        <matplotlib.axes._subplots.AxesSubplot object at 0x7fe9fb80d0d0>,\n",
              "        <matplotlib.axes._subplots.AxesSubplot object at 0x7fe9fd88dac0>],\n",
              "       [<matplotlib.axes._subplots.AxesSubplot object at 0x7fe9fd875610>,\n",
              "        <matplotlib.axes._subplots.AxesSubplot object at 0x7fe9fd6b52b0>,\n",
              "        <matplotlib.axes._subplots.AxesSubplot object at 0x7fe9fd7ce0a0>,\n",
              "        <matplotlib.axes._subplots.AxesSubplot object at 0x7fe9fd744070>],\n",
              "       [<matplotlib.axes._subplots.AxesSubplot object at 0x7fe9fdde6fd0>,\n",
              "        <matplotlib.axes._subplots.AxesSubplot object at 0x7fe9fb6b48e0>,\n",
              "        <matplotlib.axes._subplots.AxesSubplot object at 0x7fe9fb6e1cd0>,\n",
              "        <matplotlib.axes._subplots.AxesSubplot object at 0x7fe9fb690160>],\n",
              "       [<matplotlib.axes._subplots.AxesSubplot object at 0x7fe9fb64a4f0>,\n",
              "        <matplotlib.axes._subplots.AxesSubplot object at 0x7fe9fb5f68e0>,\n",
              "        <matplotlib.axes._subplots.AxesSubplot object at 0x7fe9fb626cd0>,\n",
              "        <matplotlib.axes._subplots.AxesSubplot object at 0x7fe9fb5df100>]],\n",
              "      dtype=object)"
            ]
          },
          "metadata": {},
          "execution_count": 63
        },
        {
          "output_type": "display_data",
          "data": {
            "text/plain": [
              "<Figure size 1080x1440 with 16 Axes>"
            ],
            "image/png": "[encoded data removed]"
          },
          "metadata": {
            "needs_background": "light"
          }
        }
      ]
    },
    {
      "cell_type": "markdown",
      "source": [
        "**MACHINE LEARNING MODELS**"
      ],
      "metadata": {
        "id": "YvLF80C5LUsq"
      }
    },
    {
      "cell_type": "markdown",
      "source": [
        "**1) LOGISTIC REGRESSION**\n",
        "\n",
        "*Logistic regression is a type of regression analysis in statistics used for prediction of outcome of a categorical dependent variable from a set of predictor or independent variables. In logistic regression the dependent variable is always binary. Logistic regression is mainly used to for prediction and also calculating the probability of success.*"
      ],
      "metadata": {
        "id": "2m_9ugdU9DHq"
      }
    },
    {
      "cell_type": "code",
      "source": [
        "#Logistic Regression\n",
        "#classifier = LogisticRegression(random_state=0)\n",
        "#classifier.fit(X_train,y_train)\n",
        "#y_pred = classifier.predict(X_test)\n",
        "\n",
        "m1 = 'Logistic Regression'\n",
        "lr = LogisticRegression()\n",
        "model = lr.fit(X_train, y_train)\n",
        "lr_predict = lr.predict(X_test)\n",
        "\n",
        "#matrix = confusion_matrix(y_test, y_pred)\n",
        "#print(matrix)\n",
        "lr_conf_matrix = confusion_matrix(y_test, lr_predict)\n",
        "lr_acc_score = accuracy_score(y_test, lr_predict)\n",
        "\n",
        "#report = classification_report(y_test, y_pred)\n",
        "#print(report)\n",
        "print(\"confussion matrix\")\n",
        "print(lr_conf_matrix)\n",
        "print(\"\\n\")\n",
        "print(\"Accuracy of Logistic Regression:\",lr_acc_score*100,'\\n')\n",
        "print(classification_report(y_test,lr_predict))\n"
      ],
      "metadata": {
        "colab": {
          "base_uri": "https://localhost:8080/"
        },
        "id": "aSLTX01Ug7P1",
        "outputId": "2d36ec90-e9cb-4c0d-fb58-759ff3a79019"
      },
      "execution_count": null,
      "outputs": [
        {
          "output_type": "stream",
          "name": "stdout",
          "text": [
            "confussion matrix\n",
            "[[1788   16]\n",
            " [ 292   23]]\n",
            "\n",
            "\n",
            "Accuracy of Logistic Regression: 85.4648419065597 \n",
            "\n",
            "              precision    recall  f1-score   support\n",
            "\n",
            "           0       0.86      0.99      0.92      1804\n",
            "           1       0.59      0.07      0.13       315\n",
            "\n",
            "    accuracy                           0.85      2119\n",
            "   macro avg       0.72      0.53      0.53      2119\n",
            "weighted avg       0.82      0.85      0.80      2119\n",
            "\n"
          ]
        }
      ]
    },
    {
      "cell_type": "code",
      "source": [
        "## plotting confusion matrix\n",
        "plt.figure(figsize=(7,7))\n",
        "plt.title(\"Logistic Regression CM\")\n",
        "sns.heatmap(lr_conf_matrix, square=True,cmap=\"BuPu\",annot=True,fmt='d')\n",
        "plt.xlabel('true label')\n",
        "plt.ylabel('predicted label')"
      ],
      "metadata": {
        "colab": {
          "base_uri": "https://localhost:8080/",
          "height": 428
        },
        "id": "id53iUiBWVNZ",
        "outputId": "75baf47b-9aeb-4f1a-eb73-e9681b912dff"
      },
      "execution_count": null,
      "outputs": [
        {
          "output_type": "execute_result",
          "data": {
            "text/plain": [
              "Text(42.0, 0.5, 'predicted label')"
            ]
          },
          "metadata": {},
          "execution_count": 65
        },
        {
          "output_type": "display_data",
          "data": {
            "text/plain": [
              "<Figure size 504x504 with 2 Axes>"
            ],
            "image/png": "[encoded data removed]"
          },
          "metadata": {
            "needs_background": "light"
          }
        }
      ]
    },
    {
      "cell_type": "markdown",
      "source": [
        "**2) DECISION TREE MODEL**"
      ],
      "metadata": {
        "id": "c0fbLF4SeXrY"
      }
    },
    {
      "cell_type": "code",
      "source": [
        "# Decision Tree Model\n",
        "from sklearn.tree import DecisionTreeClassifier\n",
        "\n",
        "#classifier = DecisionTreeClassifier(random_state = 0)\n",
        "#classifier.fit(X_train,y_train)\n",
        "#y_pred = classifier.predict(X_test)\n",
        "m2 = 'DecisionTreeClassifier'\n",
        "dt = DecisionTreeClassifier(criterion = 'entropy',random_state=0,max_depth = 6)\n",
        "dt.fit(X_train, y_train)\n",
        "dt_predicted = dt.predict(X_test)\n",
        "\n",
        "#cm=confusion_matrix(y_test,y_pred)\n",
        "dt_conf_matrix = confusion_matrix(y_test, dt_predicted)\n",
        "dt_acc_score = accuracy_score(y_test, dt_predicted)\n",
        "\n",
        "print(\"confussion matrix\")\n",
        "print(dt_conf_matrix)\n",
        "print(\"\\n\")\n",
        "print(\"Accuracy of DecisionTreeClassifier:\",dt_acc_score*100,'\\n')\n",
        "print(classification_report(y_test,dt_predicted))"
      ],
      "metadata": {
        "id": "7jvVuktHFDza",
        "colab": {
          "base_uri": "https://localhost:8080/"
        },
        "outputId": "db865e99-b228-4c48-f192-42ce1836f857"
      },
      "execution_count": null,
      "outputs": [
        {
          "output_type": "stream",
          "name": "stdout",
          "text": [
            "confussion matrix\n",
            "[[1765   39]\n",
            " [ 290   25]]\n",
            "\n",
            "\n",
            "Accuracy of DecisionTreeClassifier: 84.47380840018877 \n",
            "\n",
            "              precision    recall  f1-score   support\n",
            "\n",
            "           0       0.86      0.98      0.91      1804\n",
            "           1       0.39      0.08      0.13       315\n",
            "\n",
            "    accuracy                           0.84      2119\n",
            "   macro avg       0.62      0.53      0.52      2119\n",
            "weighted avg       0.79      0.84      0.80      2119\n",
            "\n"
          ]
        }
      ]
    },
    {
      "cell_type": "markdown",
      "source": [
        "**3) RANDOM FOREST**\n",
        "\n",
        "*The random forest constructs multiple decision trees.*"
      ],
      "metadata": {
        "id": "WyD85iQlRPsR"
      }
    },
    {
      "cell_type": "code",
      "source": [
        "# Random Forest\n",
        "from sklearn.ensemble import RandomForestClassifier\n",
        "\n",
        "#classifier = RandomForestClassifier(n_estimators = 10, random_state = 0)\n",
        "#classifier.fit(X_train,y_train)\n",
        "#y_pred = classifier.predict(X_test)\n",
        "m3 = 'Random Forest Classfier'\n",
        "rf = RandomForestClassifier(n_estimators=20, random_state=0,max_depth=5)\n",
        "rf.fit(X_train,y_train)\n",
        "rf_predicted = rf.predict(X_test)\n",
        "\n",
        "#cm=confusion_matrix(y_test,y_pred)\n",
        "#print(cm)\n",
        "rf_conf_matrix = confusion_matrix(y_test, rf_predicted)\n",
        "rf_acc_score = accuracy_score(y_test, rf_predicted)\n",
        "\n",
        "print(\"confussion matrix\")\n",
        "print(rf_conf_matrix)\n",
        "print(\"\\n\")\n",
        "print(\"Accuracy of Random Forest:\",rf_acc_score*100,'\\n')\n",
        "print(classification_report(y_test,rf_predicted))"
      ],
      "metadata": {
        "colab": {
          "base_uri": "https://localhost:8080/"
        },
        "id": "KQLm0u0BN4do",
        "outputId": "6a4de7d0-cd5e-40bb-b766-6e9cd947c093"
      },
      "execution_count": null,
      "outputs": [
        {
          "output_type": "stream",
          "name": "stdout",
          "text": [
            "confussion matrix\n",
            "[[1800    4]\n",
            " [ 307    8]]\n",
            "\n",
            "\n",
            "Accuracy of Random Forest: 85.32326569136384 \n",
            "\n",
            "              precision    recall  f1-score   support\n",
            "\n",
            "           0       0.85      1.00      0.92      1804\n",
            "           1       0.67      0.03      0.05       315\n",
            "\n",
            "    accuracy                           0.85      2119\n",
            "   macro avg       0.76      0.51      0.48      2119\n",
            "weighted avg       0.83      0.85      0.79      2119\n",
            "\n"
          ]
        }
      ]
    },
    {
      "cell_type": "markdown",
      "source": [
        "**4) SUPPORT VECTOR CLASSIFIER**"
      ],
      "metadata": {
        "id": "0j9T_5yCeewd"
      }
    },
    {
      "cell_type": "code",
      "source": [
        "# Support Vector Classifier\n",
        "from sklearn.svm import SVC\n",
        "\n",
        "m4 = 'Support Vector Classifier'\n",
        "svc =  SVC(kernel='rbf', C=2)\n",
        "svc.fit(X_train, y_train)\n",
        "svc_predicted = svc.predict(X_test)\n",
        "svc_conf_matrix = confusion_matrix(y_test, svc_predicted)\n",
        "svc_acc_score = accuracy_score(y_test, svc_predicted)\n",
        "print(\"confussion matrix\")\n",
        "print(svc_conf_matrix)\n",
        "print(\"\\n\")\n",
        "print(\"Accuracy of Support Vector Classifier:\",svc_acc_score*100,'\\n')\n",
        "print(classification_report(y_test,svc_predicted))"
      ],
      "metadata": {
        "id": "eO5MQkjDlGZw",
        "colab": {
          "base_uri": "https://localhost:8080/"
        },
        "outputId": "61b5e140-d879-4a3e-b0c3-88724448fd70"
      },
      "execution_count": null,
      "outputs": [
        {
          "output_type": "stream",
          "name": "stdout",
          "text": [
            "confussion matrix\n",
            "[[1791   13]\n",
            " [ 295   20]]\n",
            "\n",
            "\n",
            "Accuracy of Support Vector Classifier: 85.4648419065597 \n",
            "\n",
            "              precision    recall  f1-score   support\n",
            "\n",
            "           0       0.86      0.99      0.92      1804\n",
            "           1       0.61      0.06      0.11       315\n",
            "\n",
            "    accuracy                           0.85      2119\n",
            "   macro avg       0.73      0.53      0.52      2119\n",
            "weighted avg       0.82      0.85      0.80      2119\n",
            "\n"
          ]
        }
      ]
    },
    {
      "cell_type": "markdown",
      "source": [
        "**5) NAIVE BAYES**"
      ],
      "metadata": {
        "id": "qCdBHzlpezVy"
      }
    },
    {
      "cell_type": "code",
      "source": [
        "from sklearn.naive_bayes import GaussianNB\n",
        "\n",
        "m5 = 'Naive Bayes'\n",
        "nb = GaussianNB()\n",
        "nb.fit(X_train,y_train)\n",
        "nbpred = nb.predict(X_test)\n",
        "nb_conf_matrix = confusion_matrix(y_test, nbpred)\n",
        "nb_acc_score = accuracy_score(y_test, nbpred)\n",
        "print(\"confussion matrix\")\n",
        "print(nb_conf_matrix)\n",
        "print(\"\\n\")\n",
        "print(\"Accuracy of Naive Bayes model:\",nb_acc_score*100,'\\n')\n",
        "print(classification_report(y_test,nbpred))"
      ],
      "metadata": {
        "colab": {
          "base_uri": "https://localhost:8080/"
        },
        "id": "GBPTruOjSDuc",
        "outputId": "6c4bb6b1-b885-49d2-ae19-e4c959593e9d"
      },
      "execution_count": null,
      "outputs": [
        {
          "output_type": "stream",
          "name": "stdout",
          "text": [
            "confussion matrix\n",
            "[[1683  121]\n",
            " [ 250   65]]\n",
            "\n",
            "\n",
            "Accuracy of Naive Bayes model: 82.49174138744691 \n",
            "\n",
            "              precision    recall  f1-score   support\n",
            "\n",
            "           0       0.87      0.93      0.90      1804\n",
            "           1       0.35      0.21      0.26       315\n",
            "\n",
            "    accuracy                           0.82      2119\n",
            "   macro avg       0.61      0.57      0.58      2119\n",
            "weighted avg       0.79      0.82      0.81      2119\n",
            "\n"
          ]
        }
      ]
    },
    {
      "cell_type": "markdown",
      "source": [
        "**6) EXTREME GRADIENT BOOST**"
      ],
      "metadata": {
        "id": "oozdsSUOe4l7"
      }
    },
    {
      "cell_type": "code",
      "source": [
        "from xgboost import XGBClassifier\n",
        "\n",
        "m6 = 'Extreme Gradient Boost'\n",
        "xgb = XGBClassifier(learning_rate=0.01, n_estimators=25, max_depth=15,gamma=0.6, subsample=0.52,colsample_bytree=0.6,seed=27, \n",
        "                    reg_lambda=2, booster='dart', colsample_bylevel=0.6, colsample_bynode=0.5)\n",
        "xgb.fit(X_train, y_train)\n",
        "xgb_predicted = xgb.predict(X_test)\n",
        "xgb_conf_matrix = confusion_matrix(y_test, xgb_predicted)\n",
        "xgb_acc_score = accuracy_score(y_test, xgb_predicted)\n",
        "print(\"confussion matrix\")\n",
        "print(xgb_conf_matrix)\n",
        "print(\"\\n\")\n",
        "print(\"Accuracy of Extreme Gradient Boost:\",xgb_acc_score*100,'\\n')\n",
        "print(classification_report(y_test,xgb_predicted))"
      ],
      "metadata": {
        "colab": {
          "base_uri": "https://localhost:8080/"
        },
        "id": "aT5LfCzMSunD",
        "outputId": "c97d1a7f-ed5c-4c33-86e1-c4ad7cf779a7"
      },
      "execution_count": null,
      "outputs": [
        {
          "output_type": "stream",
          "name": "stdout",
          "text": [
            "confussion matrix\n",
            "[[1804    0]\n",
            " [ 315    0]]\n",
            "\n",
            "\n",
            "Accuracy of Extreme Gradient Boost: 85.13449740443606 \n",
            "\n",
            "              precision    recall  f1-score   support\n",
            "\n",
            "           0       0.85      1.00      0.92      1804\n",
            "           1       0.00      0.00      0.00       315\n",
            "\n",
            "    accuracy                           0.85      2119\n",
            "   macro avg       0.43      0.50      0.46      2119\n",
            "weighted avg       0.72      0.85      0.78      2119\n",
            "\n"
          ]
        }
      ]
    },
    {
      "cell_type": "markdown",
      "source": [
        "**7) K-NEIGHBORSCLASSIFIER**"
      ],
      "metadata": {
        "id": "xC0dNyyue9pR"
      }
    },
    {
      "cell_type": "code",
      "source": [
        "from sklearn.neighbors import KNeighborsClassifier\n",
        "\n",
        "m7 = 'K-NeighborsClassifier'\n",
        "knn = KNeighborsClassifier(n_neighbors=10)\n",
        "knn.fit(X_train, y_train)\n",
        "knn_predicted = knn.predict(X_test)\n",
        "knn_conf_matrix = confusion_matrix(y_test, knn_predicted)\n",
        "knn_acc_score = accuracy_score(y_test, knn_predicted)\n",
        "print(\"confussion matrix\")\n",
        "print(knn_conf_matrix)\n",
        "print(\"\\n\")\n",
        "print(\"Accuracy of K-NeighborsClassifier:\",knn_acc_score*100,'\\n')\n",
        "print(classification_report(y_test,knn_predicted))"
      ],
      "metadata": {
        "colab": {
          "base_uri": "https://localhost:8080/"
        },
        "id": "j0HYMcosSup4",
        "outputId": "57f29a49-da5d-4933-b9c9-4d75ed8dc219"
      },
      "execution_count": null,
      "outputs": [
        {
          "output_type": "stream",
          "name": "stdout",
          "text": [
            "confussion matrix\n",
            "[[1797    7]\n",
            " [ 307    8]]\n",
            "\n",
            "\n",
            "Accuracy of K-NeighborsClassifier: 85.181689476168 \n",
            "\n",
            "              precision    recall  f1-score   support\n",
            "\n",
            "           0       0.85      1.00      0.92      1804\n",
            "           1       0.53      0.03      0.05       315\n",
            "\n",
            "    accuracy                           0.85      2119\n",
            "   macro avg       0.69      0.51      0.48      2119\n",
            "weighted avg       0.81      0.85      0.79      2119\n",
            "\n"
          ]
        }
      ]
    },
    {
      "cell_type": "markdown",
      "source": [
        "***Evaluations of the different Models***"
      ],
      "metadata": {
        "id": "AA0JR0Z-fGQI"
      }
    },
    {
      "cell_type": "code",
      "source": [
        "model_evaluation = pd.DataFrame({'Model': ['Logistic Regression','Decision Tree','Random Forest','Support Vector Machine','Naive Bayes','Extreme Gradient Boost',\n",
        "                    'K-Nearest Neighbour'], 'Accuracy': [lr_acc_score*100,\n",
        "                    nb_acc_score*100,rf_acc_score*100,xgb_acc_score*100,knn_acc_score*100,dt_acc_score*100,svc_acc_score*100]})\n",
        "model_evaluation"
      ],
      "metadata": {
        "colab": {
          "base_uri": "https://localhost:8080/",
          "height": 269
        },
        "id": "xX9E7X4USusw",
        "outputId": "02427255-9a1a-47d3-96fe-121b66c8e3b9"
      },
      "execution_count": null,
      "outputs": [
        {
          "output_type": "execute_result",
          "data": {
            "text/plain": [
              "                    Model   Accuracy\n",
              "0     Logistic Regression  85.464842\n",
              "1           Decision Tree  82.491741\n",
              "2           Random Forest  85.323266\n",
              "3  Support Vector Machine  85.134497\n",
              "4             Naive Bayes  85.181689\n",
              "5  Extreme Gradient Boost  84.473808\n",
              "6     K-Nearest Neighbour  85.464842"
            ],
            "text/html": [
              "\n",
              "  <div id=\"df-e384841d-a42a-4ccd-8075-c6172d16b2ba\">\n",
              "    <div class=\"colab-df-container\">\n",
              "      <div>\n",
              "<style scoped>\n",
              "    .dataframe tbody tr th:only-of-type {\n",
              "        vertical-align: middle;\n",
              "    }\n",
              "\n",
              "    .dataframe tbody tr th {\n",
              "        vertical-align: top;\n",
              "    }\n",
              "\n",
              "    .dataframe thead th {\n",
              "        text-align: right;\n",
              "    }\n",
              "</style>\n",
              "<table border=\"1\" class=\"dataframe\">\n",
              "  <thead>\n",
              "    <tr style=\"text-align: right;\">\n",
              "      <th></th>\n",
              "      <th>Model</th>\n",
              "      <th>Accuracy</th>\n",
              "    </tr>\n",
              "  </thead>\n",
              "  <tbody>\n",
              "    <tr>\n",
              "      <th>0</th>\n",
              "      <td>Logistic Regression</td>\n",
              "      <td>85.464842</td>\n",
              "    </tr>\n",
              "    <tr>\n",
              "      <th>1</th>\n",
              "      <td>Decision Tree</td>\n",
              "      <td>82.491741</td>\n",
              "    </tr>\n",
              "    <tr>\n",
              "      <th>2</th>\n",
              "      <td>Random Forest</td>\n",
              "      <td>85.323266</td>\n",
              "    </tr>\n",
              "    <tr>\n",
              "      <th>3</th>\n",
              "      <td>Support Vector Machine</td>\n",
              "      <td>85.134497</td>\n",
              "    </tr>\n",
              "    <tr>\n",
              "      <th>4</th>\n",
              "      <td>Naive Bayes</td>\n",
              "      <td>85.181689</td>\n",
              "    </tr>\n",
              "    <tr>\n",
              "      <th>5</th>\n",
              "      <td>Extreme Gradient Boost</td>\n",
              "      <td>84.473808</td>\n",
              "    </tr>\n",
              "    <tr>\n",
              "      <th>6</th>\n",
              "      <td>K-Nearest Neighbour</td>\n",
              "      <td>85.464842</td>\n",
              "    </tr>\n",
              "  </tbody>\n",
              "</table>\n",
              "</div>\n",
              "      <button class=\"colab-df-convert\" onclick=\"convertToInteractive('df-e384841d-a42a-4ccd-8075-c6172d16b2ba')\"\n",
              "              title=\"Convert this dataframe to an interactive table.\"\n",
              "              style=\"display:none;\">\n",
              "        \n",
              "  <svg xmlns=\"http://www.w3.org/2000/svg\" height=\"24px\"viewBox=\"0 0 24 24\"\n",
              "       width=\"24px\">\n",
              "    <path d=\"M0 0h24v24H0V0z\" fill=\"none\"/>\n",
              "    <path d=\"M18.56 5.44l.94 2.06.94-2.06 2.06-.94-2.06-.94-.94-2.06-.94 2.06-2.06.94zm-11 1L8.5 8.5l.94-2.06 2.06-.94-2.06-.94L8.5 2.5l-.94 2.06-2.06.94zm10 10l.94 2.06.94-2.06 2.06-.94-2.06-.94-.94-2.06-.94 2.06-2.06.94z\"/><path d=\"M17.41 7.96l-1.37-1.37c-.4-.4-.92-.59-1.43-.59-.52 0-1.04.2-1.43.59L10.3 9.45l-7.72 7.72c-.78.78-.78 2.05 0 2.83L4 21.41c.39.39.9.59 1.41.59.51 0 1.02-.2 1.41-.59l7.78-7.78 2.81-2.81c.8-.78.8-2.07 0-2.86zM5.41 20L4 18.59l7.72-7.72 1.47 1.35L5.41 20z\"/>\n",
              "  </svg>\n",
              "      </button>\n",
              "      \n",
              "  <style>\n",
              "    .colab-df-container {\n",
              "      display:flex;\n",
              "      flex-wrap:wrap;\n",
              "      gap: 12px;\n",
              "    }\n",
              "\n",
              "    .colab-df-convert {\n",
              "      background-color: #E8F0FE;\n",
              "      border: none;\n",
              "      border-radius: 50%;\n",
              "      cursor: pointer;\n",
              "      display: none;\n",
              "      fill: #1967D2;\n",
              "      height: 32px;\n",
              "      padding: 0 0 0 0;\n",
              "      width: 32px;\n",
              "    }\n",
              "\n",
              "    .colab-df-convert:hover {\n",
              "      background-color: #E2EBFA;\n",
              "      box-shadow: 0px 1px 2px rgba(60, 64, 67, 0.3), 0px 1px 3px 1px rgba(60, 64, 67, 0.15);\n",
              "      fill: #174EA6;\n",
              "    }\n",
              "\n",
              "    [theme=dark] .colab-df-convert {\n",
              "      background-color: #3B4455;\n",
              "      fill: #D2E3FC;\n",
              "    }\n",
              "\n",
              "    [theme=dark] .colab-df-convert:hover {\n",
              "      background-color: #434B5C;\n",
              "      box-shadow: 0px 1px 3px 1px rgba(0, 0, 0, 0.15);\n",
              "      filter: drop-shadow(0px 1px 2px rgba(0, 0, 0, 0.3));\n",
              "      fill: #FFFFFF;\n",
              "    }\n",
              "  </style>\n",
              "\n",
              "      <script>\n",
              "        const buttonEl =\n",
              "          document.querySelector('#df-e384841d-a42a-4ccd-8075-c6172d16b2ba button.colab-df-convert');\n",
              "        buttonEl.style.display =\n",
              "          google.colab.kernel.accessAllowed ? 'block' : 'none';\n",
              "\n",
              "        async function convertToInteractive(key) {\n",
              "          const element = document.querySelector('#df-e384841d-a42a-4ccd-8075-c6172d16b2ba');\n",
              "          const dataTable =\n",
              "            await google.colab.kernel.invokeFunction('convertToInteractive',\n",
              "                                                     [key], {});\n",
              "          if (!dataTable) return;\n",
              "\n",
              "          const docLinkHtml = 'Like what you see? Visit the ' +\n",
              "            '<a target=\"_blank\" href=https://colab.research.google.com/notebooks/data_table.ipynb>data table notebook</a>'\n",
              "            + ' to learn more about interactive tables.';\n",
              "          element.innerHTML = '';\n",
              "          dataTable['output_type'] = 'display_data';\n",
              "          await google.colab.output.renderOutput(dataTable, element);\n",
              "          const docLink = document.createElement('div');\n",
              "          docLink.innerHTML = docLinkHtml;\n",
              "          element.appendChild(docLink);\n",
              "        }\n",
              "      </script>\n",
              "    </div>\n",
              "  </div>\n",
              "  "
            ]
          },
          "metadata": {},
          "execution_count": 72
        }
      ]
    },
    {
      "cell_type": "code",
      "source": [
        "colors = ['purple','lightgreen','lightblue','gold','silver','pink','orange',]\n",
        "plt.figure(figsize=(18,5))\n",
        "plt.title(\"barplot Represent Accuracy of different models\")\n",
        "plt.xlabel(\"Accuracy %\")\n",
        "plt.ylabel(\"Algorithms\")\n",
        "plt.bar(model_evaluation['Model'],model_evaluation['Accuracy'],color = colors)\n",
        "plt.show()"
      ],
      "metadata": {
        "colab": {
          "base_uri": "https://localhost:8080/",
          "height": 350
        },
        "id": "vxELwOx8Suv5",
        "outputId": "0de96761-04a5-49b0-a8db-4e62e8526df7"
      },
      "execution_count": null,
      "outputs": [
        {
          "output_type": "display_data",
          "data": {
            "text/plain": [
              "<Figure size 1296x360 with 1 Axes>"
            ],
            "image/png": "[encoded data removed]"
          },
          "metadata": {
            "needs_background": "light"
          }
        }
      ]
    },
    {
      "cell_type": "code",
      "source": [],
      "metadata": {
        "id": "m8B0swjNaarg"
      },
      "execution_count": null,
      "outputs": []
    }
  ]
}